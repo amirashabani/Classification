{
 "cells": [
  {
   "cell_type": "code",
   "execution_count": 1,
   "metadata": {},
   "outputs": [],
   "source": [
    "# Import necessary libraries\n",
    "import pandas as pd"
   ]
  },
  {
   "cell_type": "code",
   "execution_count": 2,
   "metadata": {},
   "outputs": [
    {
     "name": "stdout",
     "output_type": "stream",
     "text": [
      "train: (100000, 16)\n",
      "test: (25000, 16)\n"
     ]
    }
   ],
   "source": [
    "# Load data and print its shape\n",
    "\n",
    "# Train data\n",
    "train = pd.read_csv(\"data/train.csv\")\n",
    "\n",
    "# Test data \n",
    "test = pd.read_csv(\"data/test.csv\")\n",
    "\n",
    "# Print shape\n",
    "print(f\"train: {train.shape}\")\n",
    "print(f\"test: {test.shape}\")"
   ]
  },
  {
   "cell_type": "code",
   "execution_count": 3,
   "metadata": {},
   "outputs": [],
   "source": [
    "# Drop unnecessary columns\n",
    "train = train.drop(['message_id', 'reply_to_id', 'text'], axis=1)\n",
    "test = test.drop(['message_id', 'reply_to_id', 'text'], axis=1)"
   ]
  }
 ],
 "metadata": {
  "kernelspec": {
   "display_name": "Python 3",
   "language": "python",
   "name": "python3"
  },
  "language_info": {
   "codemirror_mode": {
    "name": "ipython",
    "version": 3
   },
   "file_extension": ".py",
   "mimetype": "text/x-python",
   "name": "python",
   "nbconvert_exporter": "python",
   "pygments_lexer": "ipython3",
   "version": "3.7.4"
  }
 },
 "nbformat": 4,
 "nbformat_minor": 2
}
