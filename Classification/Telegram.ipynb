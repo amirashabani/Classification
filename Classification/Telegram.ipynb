{
 "cells": [
  {
   "cell_type": "code",
   "execution_count": 1,
   "metadata": {},
   "outputs": [],
   "source": [
    "# Import necessary libraries\n",
    "import pandas as pd\n",
    "from datetime import datetime as dt"
   ]
  },
  {
   "cell_type": "code",
   "execution_count": 2,
   "metadata": {},
   "outputs": [
    {
     "name": "stdout",
     "output_type": "stream",
     "text": [
      "train: (100000, 16)\n",
      "test: (25000, 16)\n"
     ]
    }
   ],
   "source": [
    "# Load data and print its shape\n",
    "\n",
    "# Train data\n",
    "train = pd.read_csv(\"data/train.csv\")\n",
    "\n",
    "# Test data \n",
    "test = pd.read_csv(\"data/test.csv\")\n",
    "\n",
    "# Print shape\n",
    "print(f\"train: {train.shape}\")\n",
    "print(f\"test: {test.shape}\")"
   ]
  },
  {
   "cell_type": "code",
   "execution_count": 3,
   "metadata": {},
   "outputs": [],
   "source": [
    "# Drop unnecessary columns\n",
    "def drop_unnecessary_columns(data, columns):\n",
    "    return data.drop(columns, axis=1)\n",
    "\n",
    "columns_to_drop = [\"message_id\", \"reply_to_id\", \"text\", \"forwarded_from\"]\n",
    "\n",
    "train = drop_unnecessary_columns(train, columns_to_drop)\n",
    "test = drop_unnecessary_columns(test, columns_to_drop)"
   ]
  },
  {
   "cell_type": "code",
   "execution_count": 4,
   "metadata": {
    "scrolled": true
   },
   "outputs": [],
   "source": [
    "# Extract {day_of_week, day_of_month, hour_of_day, month_of_year} from message_date and drop message_date\n",
    "def extract_and_delete(data):\n",
    "    location = data.columns.get_loc('message_date')\n",
    "    day_of_week = data[\"message_date\"].apply(lambda x: dt.utcfromtimestamp(x).strftime(\"%w\"))\n",
    "    data.insert(loc=location, column=\"day_of_week\", value=day_of_week)\n",
    "\n",
    "    day_of_month = data[\"message_date\"].apply(lambda x: dt.utcfromtimestamp(x).strftime(\"%d\"))\n",
    "    data.insert(loc=location+1, column=\"day_of_month\", value=day_of_month)\n",
    "\n",
    "    hour_of_day = data[\"message_date\"].apply(lambda x: dt.utcfromtimestamp(x).strftime(\"%H\"))\n",
    "    data.insert(loc=location+2, column=\"hour_of_day\", value=hour_of_day)\n",
    "\n",
    "    month_of_year = data[\"message_date\"].apply(lambda x: dt.utcfromtimestamp(x).strftime(\"%m\"))\n",
    "    data.insert(loc=location+3, column=\"month_of_year\", value=month_of_year)\n",
    "    \n",
    "    return data.drop(['message_date'], axis=1)\n",
    "\n",
    "\n",
    "train = extract_and_delete(train)\n",
    "test = extract_and_delete(test)"
   ]
  }
 ],
 "metadata": {
  "kernelspec": {
   "display_name": "Python 3",
   "language": "python",
   "name": "python3"
  },
  "language_info": {
   "codemirror_mode": {
    "name": "ipython",
    "version": 3
   },
   "file_extension": ".py",
   "mimetype": "text/x-python",
   "name": "python",
   "nbconvert_exporter": "python",
   "pygments_lexer": "ipython3",
   "version": "3.7.4"
  }
 },
 "nbformat": 4,
 "nbformat_minor": 2
}
