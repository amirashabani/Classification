{
 "cells": [
  {
   "cell_type": "code",
   "execution_count": null,
   "metadata": {},
   "outputs": [],
   "source": [
    "# Import necessary libraries\n",
    "import pandas as pd"
   ]
  },
  {
   "cell_type": "code",
   "execution_count": null,
   "metadata": {},
   "outputs": [],
   "source": [
    "# Load data and show first five rows\n",
    "data = pd.read_csv(\"data/HBB.csv\")\n",
    "data.head()"
   ]
  },
  {
   "cell_type": "code",
   "execution_count": null,
   "metadata": {},
   "outputs": [],
   "source": [
    "# Describe non-numerical columns\n",
    "data[[\"sender\", \"message_type\", \"forwarded_from\", \"text\", \"caption\", \"photo_resolution\", \"sticker_emoji\"]].describe()"
   ]
  },
  {
   "cell_type": "code",
   "execution_count": null,
   "metadata": {},
   "outputs": [],
   "source": [
    "# General info about DataFrame\n",
    "data.info()"
   ]
  },
  {
   "cell_type": "code",
   "execution_count": null,
   "metadata": {},
   "outputs": [],
   "source": [
    "# Members of the group\n",
    "pd.unique(data[[\"sender\"]].values.ravel('K'))"
   ]
  },
  {
   "cell_type": "code",
   "execution_count": null,
   "metadata": {},
   "outputs": [],
   "source": [
    "# All differente message types\n",
    "pd.unique(data[[\"message_type\"]].values.ravel(\"K\"))"
   ]
  },
  {
   "cell_type": "code",
   "execution_count": null,
   "metadata": {},
   "outputs": [],
   "source": [
    "# How many message in each type of message?\n",
    "data[\"message_type\"].value_counts()"
   ]
  },
  {
   "cell_type": "code",
   "execution_count": null,
   "metadata": {},
   "outputs": [],
   "source": [
    "# How many text messages each member has sent?\n",
    "data.loc[data[\"message_type\"] == \"text\"][\"sender\"].value_counts()"
   ]
  },
  {
   "cell_type": "code",
   "execution_count": null,
   "metadata": {},
   "outputs": [],
   "source": [
    "# Average message length for each member of the group\n",
    "data.groupby([\"sender\"])[\"text_length\"].mean()"
   ]
  },
  {
   "cell_type": "code",
   "execution_count": null,
   "metadata": {},
   "outputs": [],
   "source": [
    "# For each member of the group, whom they have most replied to.\n",
    "members = list(pd.unique(data[\"sender\"].values.ravel(\"K\")))\n",
    "for member in members:\n",
    "    reply_to_sender_values = ', '.join(list(data.loc[data[\"sender\"] == member][\"reply_to_sender\"].value_counts().index))\n",
    "    print(f\"{member}\\t→ {reply_to_sender_values}\")"
   ]
  },
  {
   "cell_type": "code",
   "execution_count": null,
   "metadata": {},
   "outputs": [],
   "source": [
    "# Which member has used the letter و most?\n",
    "data[\"text\"].apply(lambda x: x.count('و') if type(x) == str else 0)"
   ]
  },
  {
   "cell_type": "code",
   "execution_count": null,
   "metadata": {},
   "outputs": [],
   "source": [
    "# How many replies, exluding those on themselves\n",
    "data.loc[(data[\"reply_to_id\"] != 0) & (data[\"reply_to_sender\"] != data[\"sender\"])][\"sender\"].value_counts()"
   ]
  }
 ],
 "metadata": {
  "kernelspec": {
   "display_name": "Python 3",
   "language": "python",
   "name": "python3"
  },
  "language_info": {
   "codemirror_mode": {
    "name": "ipython",
    "version": 3
   },
   "file_extension": ".py",
   "mimetype": "text/x-python",
   "name": "python",
   "nbconvert_exporter": "python",
   "pygments_lexer": "ipython3",
   "version": "3.8.1"
  }
 },
 "nbformat": 4,
 "nbformat_minor": 2
}
