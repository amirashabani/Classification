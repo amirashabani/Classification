{
 "cells": [
  {
   "cell_type": "code",
   "execution_count": 1,
   "metadata": {},
   "outputs": [],
   "source": [
    "# Import necessary libraries\n",
    "import pandas as pd"
   ]
  },
  {
   "cell_type": "code",
   "execution_count": 2,
   "metadata": {
    "scrolled": false
   },
   "outputs": [
    {
     "data": {
      "text/html": [
       "<div>\n",
       "<style scoped>\n",
       "    .dataframe tbody tr th:only-of-type {\n",
       "        vertical-align: middle;\n",
       "    }\n",
       "\n",
       "    .dataframe tbody tr th {\n",
       "        vertical-align: top;\n",
       "    }\n",
       "\n",
       "    .dataframe thead th {\n",
       "        text-align: right;\n",
       "    }\n",
       "</style>\n",
       "<table border=\"1\" class=\"dataframe\">\n",
       "  <thead>\n",
       "    <tr style=\"text-align: right;\">\n",
       "      <th></th>\n",
       "      <th>message_id</th>\n",
       "      <th>reply_to_id</th>\n",
       "      <th>sender</th>\n",
       "      <th>reply_to_sender</th>\n",
       "      <th>message_type</th>\n",
       "      <th>message_date</th>\n",
       "      <th>is_forwarded</th>\n",
       "      <th>forwarded_from</th>\n",
       "      <th>text</th>\n",
       "      <th>caption</th>\n",
       "      <th>media_size</th>\n",
       "      <th>photo_resolution</th>\n",
       "      <th>media_duration</th>\n",
       "      <th>sticker_emoji</th>\n",
       "    </tr>\n",
       "  </thead>\n",
       "  <tbody>\n",
       "    <tr>\n",
       "      <th>0</th>\n",
       "      <td>2015</td>\n",
       "      <td>2014</td>\n",
       "      <td>Roozbeh</td>\n",
       "      <td>Neda</td>\n",
       "      <td>text</td>\n",
       "      <td>1556223065</td>\n",
       "      <td>0</td>\n",
       "      <td>NaN</td>\n",
       "      <td>نه بابااا</td>\n",
       "      <td>NaN</td>\n",
       "      <td>NaN</td>\n",
       "      <td>NaN</td>\n",
       "      <td>0</td>\n",
       "      <td>NaN</td>\n",
       "    </tr>\n",
       "    <tr>\n",
       "      <th>1</th>\n",
       "      <td>2016</td>\n",
       "      <td>0</td>\n",
       "      <td>Roozbeh</td>\n",
       "      <td>NaN</td>\n",
       "      <td>text</td>\n",
       "      <td>1556223073</td>\n",
       "      <td>0</td>\n",
       "      <td>NaN</td>\n",
       "      <td>خییلی خوبه</td>\n",
       "      <td>NaN</td>\n",
       "      <td>NaN</td>\n",
       "      <td>NaN</td>\n",
       "      <td>0</td>\n",
       "      <td>NaN</td>\n",
       "    </tr>\n",
       "    <tr>\n",
       "      <th>2</th>\n",
       "      <td>2017</td>\n",
       "      <td>2012</td>\n",
       "      <td>Roozbeh</td>\n",
       "      <td>Neda</td>\n",
       "      <td>text</td>\n",
       "      <td>1556223080</td>\n",
       "      <td>0</td>\n",
       "      <td>NaN</td>\n",
       "      <td>If it was easier to shatter everything that ev...</td>\n",
       "      <td>NaN</td>\n",
       "      <td>NaN</td>\n",
       "      <td>NaN</td>\n",
       "      <td>0</td>\n",
       "      <td>NaN</td>\n",
       "    </tr>\n",
       "    <tr>\n",
       "      <th>3</th>\n",
       "      <td>2018</td>\n",
       "      <td>0</td>\n",
       "      <td>Roozbeh</td>\n",
       "      <td>NaN</td>\n",
       "      <td>sticker</td>\n",
       "      <td>1556223106</td>\n",
       "      <td>0</td>\n",
       "      <td>NaN</td>\n",
       "      <td>NaN</td>\n",
       "      <td>NaN</td>\n",
       "      <td>29.9</td>\n",
       "      <td>NaN</td>\n",
       "      <td>0</td>\n",
       "      <td>🤘</td>\n",
       "    </tr>\n",
       "    <tr>\n",
       "      <th>4</th>\n",
       "      <td>2019</td>\n",
       "      <td>0</td>\n",
       "      <td>Neda</td>\n",
       "      <td>NaN</td>\n",
       "      <td>voice</td>\n",
       "      <td>1556223132</td>\n",
       "      <td>0</td>\n",
       "      <td>NaN</td>\n",
       "      <td>NaN</td>\n",
       "      <td>NaN</td>\n",
       "      <td>7.3</td>\n",
       "      <td>NaN</td>\n",
       "      <td>3</td>\n",
       "      <td>NaN</td>\n",
       "    </tr>\n",
       "  </tbody>\n",
       "</table>\n",
       "</div>"
      ],
      "text/plain": [
       "   message_id  reply_to_id   sender reply_to_sender message_type  \\\n",
       "0        2015         2014  Roozbeh            Neda         text   \n",
       "1        2016            0  Roozbeh             NaN         text   \n",
       "2        2017         2012  Roozbeh            Neda         text   \n",
       "3        2018            0  Roozbeh             NaN      sticker   \n",
       "4        2019            0     Neda             NaN        voice   \n",
       "\n",
       "   message_date  is_forwarded forwarded_from  \\\n",
       "0    1556223065             0            NaN   \n",
       "1    1556223073             0            NaN   \n",
       "2    1556223080             0            NaN   \n",
       "3    1556223106             0            NaN   \n",
       "4    1556223132             0            NaN   \n",
       "\n",
       "                                                text caption  media_size  \\\n",
       "0                                          نه بابااا     NaN         NaN   \n",
       "1                                         خییلی خوبه     NaN         NaN   \n",
       "2  If it was easier to shatter everything that ev...     NaN         NaN   \n",
       "3                                                NaN     NaN        29.9   \n",
       "4                                                NaN     NaN         7.3   \n",
       "\n",
       "  photo_resolution  media_duration sticker_emoji  \n",
       "0              NaN               0           NaN  \n",
       "1              NaN               0           NaN  \n",
       "2              NaN               0           NaN  \n",
       "3              NaN               0             🤘  \n",
       "4              NaN               3           NaN  "
      ]
     },
     "execution_count": 2,
     "metadata": {},
     "output_type": "execute_result"
    }
   ],
   "source": [
    "data = pd.read_csv(\"data/maos.csv\")\n",
    "data.head()"
   ]
  },
  {
   "cell_type": "code",
   "execution_count": 3,
   "metadata": {},
   "outputs": [
    {
     "data": {
      "text/html": [
       "<div>\n",
       "<style scoped>\n",
       "    .dataframe tbody tr th:only-of-type {\n",
       "        vertical-align: middle;\n",
       "    }\n",
       "\n",
       "    .dataframe tbody tr th {\n",
       "        vertical-align: top;\n",
       "    }\n",
       "\n",
       "    .dataframe thead th {\n",
       "        text-align: right;\n",
       "    }\n",
       "</style>\n",
       "<table border=\"1\" class=\"dataframe\">\n",
       "  <thead>\n",
       "    <tr style=\"text-align: right;\">\n",
       "      <th></th>\n",
       "      <th>sender</th>\n",
       "      <th>message_type</th>\n",
       "      <th>forwarded_from</th>\n",
       "      <th>text</th>\n",
       "      <th>caption</th>\n",
       "      <th>photo_resolution</th>\n",
       "      <th>sticker_emoji</th>\n",
       "    </tr>\n",
       "  </thead>\n",
       "  <tbody>\n",
       "    <tr>\n",
       "      <th>count</th>\n",
       "      <td>17152</td>\n",
       "      <td>17152</td>\n",
       "      <td>545</td>\n",
       "      <td>11524</td>\n",
       "      <td>213</td>\n",
       "      <td>345</td>\n",
       "      <td>3416</td>\n",
       "    </tr>\n",
       "    <tr>\n",
       "      <th>unique</th>\n",
       "      <td>5</td>\n",
       "      <td>10</td>\n",
       "      <td>138</td>\n",
       "      <td>8950</td>\n",
       "      <td>130</td>\n",
       "      <td>284</td>\n",
       "      <td>214</td>\n",
       "    </tr>\n",
       "    <tr>\n",
       "      <th>top</th>\n",
       "      <td>Amir</td>\n",
       "      <td>text</td>\n",
       "      <td>Amir</td>\n",
       "      <td>😂😂</td>\n",
       "      <td>🎧 آهنگیفای: جستجوی موزیک</td>\n",
       "      <td>640x640</td>\n",
       "      <td>😂</td>\n",
       "    </tr>\n",
       "    <tr>\n",
       "      <th>freq</th>\n",
       "      <td>5091</td>\n",
       "      <td>11815</td>\n",
       "      <td>81</td>\n",
       "      <td>424</td>\n",
       "      <td>55</td>\n",
       "      <td>7</td>\n",
       "      <td>530</td>\n",
       "    </tr>\n",
       "  </tbody>\n",
       "</table>\n",
       "</div>"
      ],
      "text/plain": [
       "       sender message_type forwarded_from   text                   caption  \\\n",
       "count   17152        17152            545  11524                       213   \n",
       "unique      5           10            138   8950                       130   \n",
       "top      Amir         text           Amir     😂😂  🎧 آهنگیفای: جستجوی موزیک   \n",
       "freq     5091        11815             81    424                        55   \n",
       "\n",
       "       photo_resolution sticker_emoji  \n",
       "count               345          3416  \n",
       "unique              284           214  \n",
       "top             640x640             😂  \n",
       "freq                  7           530  "
      ]
     },
     "execution_count": 3,
     "metadata": {},
     "output_type": "execute_result"
    }
   ],
   "source": [
    "data[[\"sender\", \"message_type\", \"forwarded_from\", \"text\", \"caption\", \"photo_resolution\", \"sticker_emoji\"]].describe()"
   ]
  },
  {
   "cell_type": "code",
   "execution_count": 4,
   "metadata": {
    "scrolled": false
   },
   "outputs": [
    {
     "name": "stdout",
     "output_type": "stream",
     "text": [
      "<class 'pandas.core.frame.DataFrame'>\n",
      "RangeIndex: 17152 entries, 0 to 17151\n",
      "Data columns (total 14 columns):\n",
      "message_id          17152 non-null int64\n",
      "reply_to_id         17152 non-null int64\n",
      "sender              17152 non-null object\n",
      "reply_to_sender     7981 non-null object\n",
      "message_type        17152 non-null object\n",
      "message_date        17152 non-null int64\n",
      "is_forwarded        17152 non-null int64\n",
      "forwarded_from      545 non-null object\n",
      "text                11524 non-null object\n",
      "caption             213 non-null object\n",
      "media_size          5335 non-null float64\n",
      "photo_resolution    345 non-null object\n",
      "media_duration      17152 non-null int64\n",
      "sticker_emoji       3416 non-null object\n",
      "dtypes: float64(1), int64(5), object(8)\n",
      "memory usage: 1.8+ MB\n"
     ]
    }
   ],
   "source": [
    "data.info()"
   ]
  },
  {
   "cell_type": "code",
   "execution_count": 5,
   "metadata": {},
   "outputs": [
    {
     "data": {
      "text/plain": [
       "array(['Roozbeh', 'Neda', 'Amir', 'Pouya', 'Barsin'], dtype=object)"
      ]
     },
     "execution_count": 5,
     "metadata": {},
     "output_type": "execute_result"
    }
   ],
   "source": [
    "pd.unique(data[[\"sender\"]].values.ravel('K'))"
   ]
  },
  {
   "cell_type": "code",
   "execution_count": 6,
   "metadata": {},
   "outputs": [
    {
     "data": {
      "text/plain": [
       "array(['text', 'sticker', 'voice', 'audio', 'video file', 'photo',\n",
       "       'animation', 'file', 'video message', 'contact'], dtype=object)"
      ]
     },
     "execution_count": 6,
     "metadata": {},
     "output_type": "execute_result"
    }
   ],
   "source": [
    "pd.unique(data[[\"message_type\"]].values.ravel(\"K\"))"
   ]
  },
  {
   "cell_type": "code",
   "execution_count": 7,
   "metadata": {},
   "outputs": [
    {
     "data": {
      "text/plain": [
       "text             11815\n",
       "sticker           3416\n",
       "animation          565\n",
       "voice              480\n",
       "audio              377\n",
       "photo              345\n",
       "video file         105\n",
       "file                39\n",
       "video message        8\n",
       "contact              2\n",
       "Name: message_type, dtype: int64"
      ]
     },
     "execution_count": 7,
     "metadata": {},
     "output_type": "execute_result"
    }
   ],
   "source": [
    "data[\"message_type\"].value_counts()"
   ]
  },
  {
   "cell_type": "code",
   "execution_count": 8,
   "metadata": {
    "scrolled": true
   },
   "outputs": [
    {
     "data": {
      "text/plain": [
       "Roozbeh    3299\n",
       "Amir       3121\n",
       "Neda       2164\n",
       "Barsin     1704\n",
       "Pouya      1527\n",
       "Name: sender, dtype: int64"
      ]
     },
     "execution_count": 8,
     "metadata": {},
     "output_type": "execute_result"
    }
   ],
   "source": [
    "data.loc[data[\"message_type\"] == \"text\"][\"sender\"].value_counts()"
   ]
  },
  {
   "cell_type": "code",
   "execution_count": 9,
   "metadata": {},
   "outputs": [
    {
     "data": {
      "text/plain": [
       "0    16531\n",
       "1      621\n",
       "Name: is_forwarded, dtype: int64"
      ]
     },
     "execution_count": 9,
     "metadata": {},
     "output_type": "execute_result"
    }
   ],
   "source": [
    "data[\"is_forwarded\"].value_counts()"
   ]
  },
  {
   "cell_type": "code",
   "execution_count": 10,
   "metadata": {},
   "outputs": [
    {
     "data": {
      "text/plain": [
       "11524"
      ]
     },
     "execution_count": 10,
     "metadata": {},
     "output_type": "execute_result"
    }
   ],
   "source": [
    "len(data.loc[(data[\"message_type\"] == \"text\") & (data[\"text\"].notnull())].index)"
   ]
  },
  {
   "cell_type": "code",
   "execution_count": 11,
   "metadata": {},
   "outputs": [
    {
     "data": {
      "text/plain": [
       "0"
      ]
     },
     "execution_count": 11,
     "metadata": {},
     "output_type": "execute_result"
    }
   ],
   "source": [
    "len(data.loc[(data[\"message_type\"] != \"text\") & (data[\"text\"].notnull())])"
   ]
  },
  {
   "cell_type": "code",
   "execution_count": 12,
   "metadata": {},
   "outputs": [
    {
     "data": {
      "text/plain": [
       "0"
      ]
     },
     "execution_count": 12,
     "metadata": {},
     "output_type": "execute_result"
    }
   ],
   "source": [
    "len(data.loc[(data[\"message_type\"] == \"text\") & (data[\"caption\"].notnull())].index)"
   ]
  },
  {
   "cell_type": "code",
   "execution_count": 13,
   "metadata": {
    "scrolled": true
   },
   "outputs": [
    {
     "data": {
      "text/plain": [
       "213"
      ]
     },
     "execution_count": 13,
     "metadata": {},
     "output_type": "execute_result"
    }
   ],
   "source": [
    "len(data.loc[(data[\"message_type\"] != \"text\") & (data[\"caption\"].notnull())].index)"
   ]
  },
  {
   "cell_type": "code",
   "execution_count": 14,
   "metadata": {
    "scrolled": true
   },
   "outputs": [
    {
     "data": {
      "text/plain": [
       "0"
      ]
     },
     "execution_count": 14,
     "metadata": {},
     "output_type": "execute_result"
    }
   ],
   "source": [
    "len(data.loc[(data[\"text\"].notnull()) & (data[\"caption\"].notnull())].index)"
   ]
  },
  {
   "cell_type": "code",
   "execution_count": 15,
   "metadata": {
    "scrolled": false
   },
   "outputs": [
    {
     "data": {
      "text/plain": [
       "0"
      ]
     },
     "execution_count": 15,
     "metadata": {},
     "output_type": "execute_result"
    }
   ],
   "source": [
    "len(data.loc[(data[\"message_type\"] != \"sticker\") & (data[\"sticker_emoji\"].notnull())].index)"
   ]
  },
  {
   "cell_type": "code",
   "execution_count": 16,
   "metadata": {},
   "outputs": [
    {
     "data": {
      "text/plain": [
       "4059805.256"
      ]
     },
     "execution_count": 16,
     "metadata": {},
     "output_type": "execute_result"
    }
   ],
   "source": [
    "data[\"media_size\"].sum()"
   ]
  },
  {
   "cell_type": "code",
   "execution_count": 17,
   "metadata": {
    "scrolled": true
   },
   "outputs": [
    {
     "data": {
      "text/plain": [
       "3142174.5"
      ]
     },
     "execution_count": 17,
     "metadata": {},
     "output_type": "execute_result"
    }
   ],
   "source": [
    "data.loc[data[\"message_type\"] == \"audio\"][\"media_size\"].sum()"
   ]
  },
  {
   "cell_type": "code",
   "execution_count": 18,
   "metadata": {},
   "outputs": [
    {
     "data": {
      "text/plain": [
       "113063"
      ]
     },
     "execution_count": 18,
     "metadata": {},
     "output_type": "execute_result"
    }
   ],
   "source": [
    "data[\"media_duration\"].sum()"
   ]
  },
  {
   "cell_type": "code",
   "execution_count": 19,
   "metadata": {},
   "outputs": [
    {
     "data": {
      "text/html": [
       "<div>\n",
       "<style scoped>\n",
       "    .dataframe tbody tr th:only-of-type {\n",
       "        vertical-align: middle;\n",
       "    }\n",
       "\n",
       "    .dataframe tbody tr th {\n",
       "        vertical-align: top;\n",
       "    }\n",
       "\n",
       "    .dataframe thead th {\n",
       "        text-align: right;\n",
       "    }\n",
       "</style>\n",
       "<table border=\"1\" class=\"dataframe\">\n",
       "  <thead>\n",
       "    <tr style=\"text-align: right;\">\n",
       "      <th></th>\n",
       "      <th>message_id</th>\n",
       "      <th>reply_to_id</th>\n",
       "      <th>sender</th>\n",
       "    </tr>\n",
       "  </thead>\n",
       "  <tbody>\n",
       "    <tr>\n",
       "      <th>0</th>\n",
       "      <td>2015</td>\n",
       "      <td>2014</td>\n",
       "      <td>Roozbeh</td>\n",
       "    </tr>\n",
       "    <tr>\n",
       "      <th>1</th>\n",
       "      <td>2016</td>\n",
       "      <td>0</td>\n",
       "      <td>Roozbeh</td>\n",
       "    </tr>\n",
       "    <tr>\n",
       "      <th>2</th>\n",
       "      <td>2017</td>\n",
       "      <td>2012</td>\n",
       "      <td>Roozbeh</td>\n",
       "    </tr>\n",
       "    <tr>\n",
       "      <th>3</th>\n",
       "      <td>2018</td>\n",
       "      <td>0</td>\n",
       "      <td>Roozbeh</td>\n",
       "    </tr>\n",
       "    <tr>\n",
       "      <th>4</th>\n",
       "      <td>2019</td>\n",
       "      <td>0</td>\n",
       "      <td>Neda</td>\n",
       "    </tr>\n",
       "  </tbody>\n",
       "</table>\n",
       "</div>"
      ],
      "text/plain": [
       "   message_id  reply_to_id   sender\n",
       "0        2015         2014  Roozbeh\n",
       "1        2016            0  Roozbeh\n",
       "2        2017         2012  Roozbeh\n",
       "3        2018            0  Roozbeh\n",
       "4        2019            0     Neda"
      ]
     },
     "execution_count": 19,
     "metadata": {},
     "output_type": "execute_result"
    }
   ],
   "source": [
    "data[[\"message_id\", \"reply_to_id\", \"sender\"]].head()"
   ]
  },
  {
   "cell_type": "code",
   "execution_count": 20,
   "metadata": {},
   "outputs": [],
   "source": [
    "def text_len(row):\n",
    "    if(type(row) == float):\n",
    "        return 0\n",
    "    else:\n",
    "        return len(row)"
   ]
  },
  {
   "cell_type": "code",
   "execution_count": 21,
   "metadata": {},
   "outputs": [],
   "source": [
    "data.insert(loc=9, column=\"text_length\", value=data[\"text\"].apply(lambda x: text_len(x)))"
   ]
  },
  {
   "cell_type": "code",
   "execution_count": 22,
   "metadata": {
    "scrolled": false
   },
   "outputs": [
    {
     "data": {
      "text/plain": [
       "0    5337\n",
       "Name: text_length, dtype: int64"
      ]
     },
     "execution_count": 22,
     "metadata": {},
     "output_type": "execute_result"
    }
   ],
   "source": [
    "data.loc[data[\"message_type\"] != \"text\"][\"text_length\"].value_counts()"
   ]
  },
  {
   "cell_type": "code",
   "execution_count": 23,
   "metadata": {},
   "outputs": [
    {
     "data": {
      "text/html": [
       "<div>\n",
       "<style scoped>\n",
       "    .dataframe tbody tr th:only-of-type {\n",
       "        vertical-align: middle;\n",
       "    }\n",
       "\n",
       "    .dataframe tbody tr th {\n",
       "        vertical-align: top;\n",
       "    }\n",
       "\n",
       "    .dataframe thead th {\n",
       "        text-align: right;\n",
       "    }\n",
       "</style>\n",
       "<table border=\"1\" class=\"dataframe\">\n",
       "  <thead>\n",
       "    <tr style=\"text-align: right;\">\n",
       "      <th></th>\n",
       "      <th>message_id</th>\n",
       "      <th>reply_to_id</th>\n",
       "      <th>sender</th>\n",
       "      <th>reply_to_sender</th>\n",
       "      <th>message_type</th>\n",
       "      <th>message_date</th>\n",
       "      <th>is_forwarded</th>\n",
       "      <th>forwarded_from</th>\n",
       "      <th>text</th>\n",
       "      <th>text_length</th>\n",
       "      <th>caption</th>\n",
       "      <th>media_size</th>\n",
       "      <th>photo_resolution</th>\n",
       "      <th>media_duration</th>\n",
       "      <th>sticker_emoji</th>\n",
       "    </tr>\n",
       "  </thead>\n",
       "  <tbody>\n",
       "    <tr>\n",
       "      <th>131</th>\n",
       "      <td>2146</td>\n",
       "      <td>0</td>\n",
       "      <td>Pouya</td>\n",
       "      <td>NaN</td>\n",
       "      <td>text</td>\n",
       "      <td>1556270480</td>\n",
       "      <td>1</td>\n",
       "      <td>Pouya</td>\n",
       "      <td>NaN</td>\n",
       "      <td>0</td>\n",
       "      <td>NaN</td>\n",
       "      <td>NaN</td>\n",
       "      <td>NaN</td>\n",
       "      <td>0</td>\n",
       "      <td>NaN</td>\n",
       "    </tr>\n",
       "    <tr>\n",
       "      <th>132</th>\n",
       "      <td>2147</td>\n",
       "      <td>0</td>\n",
       "      <td>Pouya</td>\n",
       "      <td>NaN</td>\n",
       "      <td>text</td>\n",
       "      <td>1556270480</td>\n",
       "      <td>1</td>\n",
       "      <td>Sinaaawei</td>\n",
       "      <td>NaN</td>\n",
       "      <td>0</td>\n",
       "      <td>NaN</td>\n",
       "      <td>NaN</td>\n",
       "      <td>NaN</td>\n",
       "      <td>0</td>\n",
       "      <td>NaN</td>\n",
       "    </tr>\n",
       "    <tr>\n",
       "      <th>133</th>\n",
       "      <td>2148</td>\n",
       "      <td>0</td>\n",
       "      <td>Pouya</td>\n",
       "      <td>NaN</td>\n",
       "      <td>text</td>\n",
       "      <td>1556270480</td>\n",
       "      <td>1</td>\n",
       "      <td>Pouya</td>\n",
       "      <td>NaN</td>\n",
       "      <td>0</td>\n",
       "      <td>NaN</td>\n",
       "      <td>NaN</td>\n",
       "      <td>NaN</td>\n",
       "      <td>0</td>\n",
       "      <td>NaN</td>\n",
       "    </tr>\n",
       "    <tr>\n",
       "      <th>170</th>\n",
       "      <td>2185</td>\n",
       "      <td>0</td>\n",
       "      <td>Pouya</td>\n",
       "      <td>NaN</td>\n",
       "      <td>text</td>\n",
       "      <td>1556281021</td>\n",
       "      <td>1</td>\n",
       "      <td>Sinaaawei</td>\n",
       "      <td>NaN</td>\n",
       "      <td>0</td>\n",
       "      <td>NaN</td>\n",
       "      <td>NaN</td>\n",
       "      <td>NaN</td>\n",
       "      <td>0</td>\n",
       "      <td>NaN</td>\n",
       "    </tr>\n",
       "    <tr>\n",
       "      <th>367</th>\n",
       "      <td>2382</td>\n",
       "      <td>0</td>\n",
       "      <td>Roozbeh</td>\n",
       "      <td>NaN</td>\n",
       "      <td>text</td>\n",
       "      <td>1556359800</td>\n",
       "      <td>1</td>\n",
       "      <td>ami</td>\n",
       "      <td>NaN</td>\n",
       "      <td>0</td>\n",
       "      <td>NaN</td>\n",
       "      <td>NaN</td>\n",
       "      <td>NaN</td>\n",
       "      <td>0</td>\n",
       "      <td>NaN</td>\n",
       "    </tr>\n",
       "    <tr>\n",
       "      <th>...</th>\n",
       "      <td>...</td>\n",
       "      <td>...</td>\n",
       "      <td>...</td>\n",
       "      <td>...</td>\n",
       "      <td>...</td>\n",
       "      <td>...</td>\n",
       "      <td>...</td>\n",
       "      <td>...</td>\n",
       "      <td>...</td>\n",
       "      <td>...</td>\n",
       "      <td>...</td>\n",
       "      <td>...</td>\n",
       "      <td>...</td>\n",
       "      <td>...</td>\n",
       "      <td>...</td>\n",
       "    </tr>\n",
       "    <tr>\n",
       "      <th>16548</th>\n",
       "      <td>11485</td>\n",
       "      <td>0</td>\n",
       "      <td>Pouya</td>\n",
       "      <td>NaN</td>\n",
       "      <td>text</td>\n",
       "      <td>1564535120</td>\n",
       "      <td>1</td>\n",
       "      <td>AliReza</td>\n",
       "      <td>NaN</td>\n",
       "      <td>0</td>\n",
       "      <td>NaN</td>\n",
       "      <td>NaN</td>\n",
       "      <td>NaN</td>\n",
       "      <td>0</td>\n",
       "      <td>NaN</td>\n",
       "    </tr>\n",
       "    <tr>\n",
       "      <th>16802</th>\n",
       "      <td>11741</td>\n",
       "      <td>0</td>\n",
       "      <td>Roozbeh</td>\n",
       "      <td>NaN</td>\n",
       "      <td>text</td>\n",
       "      <td>1565274459</td>\n",
       "      <td>1</td>\n",
       "      <td>Amir</td>\n",
       "      <td>NaN</td>\n",
       "      <td>0</td>\n",
       "      <td>NaN</td>\n",
       "      <td>NaN</td>\n",
       "      <td>NaN</td>\n",
       "      <td>0</td>\n",
       "      <td>NaN</td>\n",
       "    </tr>\n",
       "    <tr>\n",
       "      <th>16854</th>\n",
       "      <td>11793</td>\n",
       "      <td>0</td>\n",
       "      <td>Amir</td>\n",
       "      <td>NaN</td>\n",
       "      <td>text</td>\n",
       "      <td>1565290071</td>\n",
       "      <td>1</td>\n",
       "      <td>Amir</td>\n",
       "      <td>NaN</td>\n",
       "      <td>0</td>\n",
       "      <td>NaN</td>\n",
       "      <td>NaN</td>\n",
       "      <td>NaN</td>\n",
       "      <td>0</td>\n",
       "      <td>NaN</td>\n",
       "    </tr>\n",
       "    <tr>\n",
       "      <th>16887</th>\n",
       "      <td>11826</td>\n",
       "      <td>0</td>\n",
       "      <td>Amir</td>\n",
       "      <td>NaN</td>\n",
       "      <td>text</td>\n",
       "      <td>1565294916</td>\n",
       "      <td>1</td>\n",
       "      <td>10fastfingers</td>\n",
       "      <td>NaN</td>\n",
       "      <td>0</td>\n",
       "      <td>NaN</td>\n",
       "      <td>NaN</td>\n",
       "      <td>NaN</td>\n",
       "      <td>0</td>\n",
       "      <td>NaN</td>\n",
       "    </tr>\n",
       "    <tr>\n",
       "      <th>17097</th>\n",
       "      <td>12043</td>\n",
       "      <td>0</td>\n",
       "      <td>Pouya</td>\n",
       "      <td>NaN</td>\n",
       "      <td>text</td>\n",
       "      <td>1566156912</td>\n",
       "      <td>1</td>\n",
       "      <td>Pouya</td>\n",
       "      <td>NaN</td>\n",
       "      <td>0</td>\n",
       "      <td>NaN</td>\n",
       "      <td>NaN</td>\n",
       "      <td>NaN</td>\n",
       "      <td>0</td>\n",
       "      <td>NaN</td>\n",
       "    </tr>\n",
       "  </tbody>\n",
       "</table>\n",
       "<p>291 rows × 15 columns</p>\n",
       "</div>"
      ],
      "text/plain": [
       "       message_id  reply_to_id   sender reply_to_sender message_type  \\\n",
       "131          2146            0    Pouya             NaN         text   \n",
       "132          2147            0    Pouya             NaN         text   \n",
       "133          2148            0    Pouya             NaN         text   \n",
       "170          2185            0    Pouya             NaN         text   \n",
       "367          2382            0  Roozbeh             NaN         text   \n",
       "...           ...          ...      ...             ...          ...   \n",
       "16548       11485            0    Pouya             NaN         text   \n",
       "16802       11741            0  Roozbeh             NaN         text   \n",
       "16854       11793            0     Amir             NaN         text   \n",
       "16887       11826            0     Amir             NaN         text   \n",
       "17097       12043            0    Pouya             NaN         text   \n",
       "\n",
       "       message_date  is_forwarded forwarded_from text  text_length caption  \\\n",
       "131      1556270480             1          Pouya  NaN            0     NaN   \n",
       "132      1556270480             1      Sinaaawei  NaN            0     NaN   \n",
       "133      1556270480             1          Pouya  NaN            0     NaN   \n",
       "170      1556281021             1      Sinaaawei  NaN            0     NaN   \n",
       "367      1556359800             1            ami  NaN            0     NaN   \n",
       "...             ...           ...            ...  ...          ...     ...   \n",
       "16548    1564535120             1        AliReza  NaN            0     NaN   \n",
       "16802    1565274459             1           Amir  NaN            0     NaN   \n",
       "16854    1565290071             1           Amir  NaN            0     NaN   \n",
       "16887    1565294916             1  10fastfingers  NaN            0     NaN   \n",
       "17097    1566156912             1          Pouya  NaN            0     NaN   \n",
       "\n",
       "       media_size photo_resolution  media_duration sticker_emoji  \n",
       "131           NaN              NaN               0           NaN  \n",
       "132           NaN              NaN               0           NaN  \n",
       "133           NaN              NaN               0           NaN  \n",
       "170           NaN              NaN               0           NaN  \n",
       "367           NaN              NaN               0           NaN  \n",
       "...           ...              ...             ...           ...  \n",
       "16548         NaN              NaN               0           NaN  \n",
       "16802         NaN              NaN               0           NaN  \n",
       "16854         NaN              NaN               0           NaN  \n",
       "16887         NaN              NaN               0           NaN  \n",
       "17097         NaN              NaN               0           NaN  \n",
       "\n",
       "[291 rows x 15 columns]"
      ]
     },
     "execution_count": 23,
     "metadata": {},
     "output_type": "execute_result"
    }
   ],
   "source": [
    "data.loc[(data[\"message_type\"] == \"text\") & (data[\"text_length\"] == 0)]"
   ]
  }
 ],
 "metadata": {
  "kernelspec": {
   "display_name": "Python 3",
   "language": "python",
   "name": "python3"
  },
  "language_info": {
   "codemirror_mode": {
    "name": "ipython",
    "version": 3
   },
   "file_extension": ".py",
   "mimetype": "text/x-python",
   "name": "python",
   "nbconvert_exporter": "python",
   "pygments_lexer": "ipython3",
   "version": "3.8.1"
  }
 },
 "nbformat": 4,
 "nbformat_minor": 2
}
