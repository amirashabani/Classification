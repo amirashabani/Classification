{
 "cells": [
  {
   "cell_type": "code",
   "execution_count": null,
   "metadata": {},
   "outputs": [],
   "source": [
    "# Import necessary libraries\n",
    "import pandas as pd\n",
    "from datetime import timedelta"
   ]
  },
  {
   "cell_type": "code",
   "execution_count": null,
   "metadata": {},
   "outputs": [],
   "source": [
    "# Load data and show first five rows\n",
    "data = pd.read_csv(\"data/HBB.csv\")\n",
    "data.head()"
   ]
  },
  {
   "cell_type": "code",
   "execution_count": null,
   "metadata": {},
   "outputs": [],
   "source": [
    "# Describe non-numerical columns\n",
    "data[[\"sender\", \"message_type\", \"forwarded_from\", \"text\", \"caption\", \"photo_resolution\", \"sticker_emoji\"]].describe()"
   ]
  },
  {
   "cell_type": "code",
   "execution_count": null,
   "metadata": {},
   "outputs": [],
   "source": [
    "# General info about DataFrame\n",
    "data.info()"
   ]
  },
  {
   "cell_type": "code",
   "execution_count": null,
   "metadata": {},
   "outputs": [],
   "source": [
    "# Members of the group\n",
    "pd.unique(data[[\"sender\"]].values.ravel('K'))"
   ]
  },
  {
   "cell_type": "code",
   "execution_count": null,
   "metadata": {},
   "outputs": [],
   "source": [
    "# All differente message types\n",
    "pd.unique(data[[\"message_type\"]].values.ravel(\"K\"))"
   ]
  },
  {
   "cell_type": "code",
   "execution_count": null,
   "metadata": {},
   "outputs": [],
   "source": [
    "# How many message in each type of message?\n",
    "data[\"message_type\"].value_counts()"
   ]
  },
  {
   "cell_type": "code",
   "execution_count": null,
   "metadata": {},
   "outputs": [],
   "source": [
    "# How many text messages each member has sent?\n",
    "data.loc[data[\"message_type\"] == \"text\"][\"sender\"].value_counts()"
   ]
  },
  {
   "cell_type": "code",
   "execution_count": null,
   "metadata": {},
   "outputs": [],
   "source": [
    "# Average message length for each member of the group\n",
    "data.groupby([\"sender\"])[\"text_length\"].mean()"
   ]
  },
  {
   "cell_type": "code",
   "execution_count": null,
   "metadata": {},
   "outputs": [],
   "source": [
    "# For each member of the group, whom they have most replied to.\n",
    "members = list(pd.unique(data[\"sender\"].values.ravel(\"K\")))\n",
    "for member in members:\n",
    "    reply_to_sender_values = ', '.join(list(data.loc[data[\"sender\"] == member][\"reply_to_sender\"].value_counts().index))\n",
    "    print(f\"{member}\\t→ {reply_to_sender_values}\")"
   ]
  },
  {
   "cell_type": "code",
   "execution_count": null,
   "metadata": {},
   "outputs": [],
   "source": [
    "# Which member has used the letter و most?\n",
    "data[\"text\"].apply(lambda x: x.count('و') if type(x) == str else 0)"
   ]
  },
  {
   "cell_type": "code",
   "execution_count": null,
   "metadata": {},
   "outputs": [],
   "source": [
    "# How many replies, exluding those on themselves\n",
    "data.loc[(data[\"reply_to_id\"] != 0) & (data[\"reply_to_sender\"] != data[\"sender\"])][\"sender\"].value_counts()"
   ]
  },
  {
   "cell_type": "code",
   "execution_count": null,
   "metadata": {},
   "outputs": [],
   "source": [
    "# What percentage of messages were replies\n",
    "replies = data.loc[data[\"reply_to_id\"] != 0][\"sender\"].value_counts()\n",
    "all_messages = data[\"sender\"].value_counts()\n",
    "(replies / all_messages * 100).sort_values(ascending=False)"
   ]
  },
  {
   "cell_type": "code",
   "execution_count": null,
   "metadata": {},
   "outputs": [],
   "source": [
    "# Average length of text messages, per member\n",
    "data.groupby([\"sender\"])[\"text_length\"].mean().round(2).sort_values(ascending=False).to_frame(\"average length\")"
   ]
  },
  {
   "cell_type": "code",
   "execution_count": null,
   "metadata": {},
   "outputs": [],
   "source": [
    "# How many times they've said bekiram\n",
    "bk_en = [\" bk \", \"bekiram\", \"bkirm\", \"b kirm\", \"b kiram\", \"be kiram\", \"be kirm\"]\n",
    "bk_fa = [\"بکیرم\", \"به کیرم\", \"ب کیرم\"]\n",
    "bk = bk_en + bk_fa\n",
    "data.loc[data[\"text\"].str.contains('|'.join(bk), na=False)][\"sender\"].value_counts()"
   ]
  },
  {
   "cell_type": "code",
   "execution_count": null,
   "metadata": {},
   "outputs": [],
   "source": [
    "# Average audio length\n",
    "sec = int(data.loc[data[\"message_type\"] == \"audio\"][\"media_duration\"].mean().round())\n",
    "str(timedelta(seconds=sec))"
   ]
  }
 ],
 "metadata": {
  "kernelspec": {
   "display_name": "Python 3",
   "language": "python",
   "name": "python3"
  },
  "language_info": {
   "codemirror_mode": {
    "name": "ipython",
    "version": 3
   },
   "file_extension": ".py",
   "mimetype": "text/x-python",
   "name": "python",
   "nbconvert_exporter": "python",
   "pygments_lexer": "ipython3",
   "version": "3.8.1"
  }
 },
 "nbformat": 4,
 "nbformat_minor": 2
}
