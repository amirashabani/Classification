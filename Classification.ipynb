{
 "cells": [
  {
   "cell_type": "code",
   "execution_count": 1,
   "metadata": {},
   "outputs": [],
   "source": [
    "# Import necessary libraries\n",
    "import pandas as pd"
   ]
  },
  {
   "cell_type": "code",
   "execution_count": 2,
   "metadata": {
    "scrolled": false
   },
   "outputs": [
    {
     "data": {
      "text/html": [
       "<div>\n",
       "<style scoped>\n",
       "    .dataframe tbody tr th:only-of-type {\n",
       "        vertical-align: middle;\n",
       "    }\n",
       "\n",
       "    .dataframe tbody tr th {\n",
       "        vertical-align: top;\n",
       "    }\n",
       "\n",
       "    .dataframe thead th {\n",
       "        text-align: right;\n",
       "    }\n",
       "</style>\n",
       "<table border=\"1\" class=\"dataframe\">\n",
       "  <thead>\n",
       "    <tr style=\"text-align: right;\">\n",
       "      <th></th>\n",
       "      <th>message_id</th>\n",
       "      <th>reply_to_id</th>\n",
       "      <th>sender</th>\n",
       "      <th>reply_to_sender</th>\n",
       "      <th>message_type</th>\n",
       "      <th>message_date</th>\n",
       "      <th>is_forwarded</th>\n",
       "      <th>forwarded_from</th>\n",
       "      <th>text</th>\n",
       "      <th>text_length</th>\n",
       "      <th>caption</th>\n",
       "      <th>media_size</th>\n",
       "      <th>photo_resolution</th>\n",
       "      <th>media_duration</th>\n",
       "      <th>sticker_emoji</th>\n",
       "    </tr>\n",
       "  </thead>\n",
       "  <tbody>\n",
       "    <tr>\n",
       "      <th>0</th>\n",
       "      <td>2015</td>\n",
       "      <td>2014</td>\n",
       "      <td>Roozbeh</td>\n",
       "      <td>Neda</td>\n",
       "      <td>text</td>\n",
       "      <td>1556223065</td>\n",
       "      <td>0</td>\n",
       "      <td>NaN</td>\n",
       "      <td>نه بابااا</td>\n",
       "      <td>9</td>\n",
       "      <td>NaN</td>\n",
       "      <td>NaN</td>\n",
       "      <td>NaN</td>\n",
       "      <td>0</td>\n",
       "      <td>NaN</td>\n",
       "    </tr>\n",
       "    <tr>\n",
       "      <th>1</th>\n",
       "      <td>2016</td>\n",
       "      <td>0</td>\n",
       "      <td>Roozbeh</td>\n",
       "      <td>NaN</td>\n",
       "      <td>text</td>\n",
       "      <td>1556223073</td>\n",
       "      <td>0</td>\n",
       "      <td>NaN</td>\n",
       "      <td>خییلی خوبه</td>\n",
       "      <td>10</td>\n",
       "      <td>NaN</td>\n",
       "      <td>NaN</td>\n",
       "      <td>NaN</td>\n",
       "      <td>0</td>\n",
       "      <td>NaN</td>\n",
       "    </tr>\n",
       "    <tr>\n",
       "      <th>2</th>\n",
       "      <td>2017</td>\n",
       "      <td>2012</td>\n",
       "      <td>Roozbeh</td>\n",
       "      <td>Neda</td>\n",
       "      <td>text</td>\n",
       "      <td>1556223080</td>\n",
       "      <td>0</td>\n",
       "      <td>NaN</td>\n",
       "      <td>If it was easier to shatter everything that ev...</td>\n",
       "      <td>98</td>\n",
       "      <td>NaN</td>\n",
       "      <td>NaN</td>\n",
       "      <td>NaN</td>\n",
       "      <td>0</td>\n",
       "      <td>NaN</td>\n",
       "    </tr>\n",
       "    <tr>\n",
       "      <th>3</th>\n",
       "      <td>2018</td>\n",
       "      <td>0</td>\n",
       "      <td>Roozbeh</td>\n",
       "      <td>NaN</td>\n",
       "      <td>sticker</td>\n",
       "      <td>1556223106</td>\n",
       "      <td>0</td>\n",
       "      <td>NaN</td>\n",
       "      <td>NaN</td>\n",
       "      <td>0</td>\n",
       "      <td>NaN</td>\n",
       "      <td>29.9</td>\n",
       "      <td>NaN</td>\n",
       "      <td>0</td>\n",
       "      <td>🤘</td>\n",
       "    </tr>\n",
       "    <tr>\n",
       "      <th>4</th>\n",
       "      <td>2019</td>\n",
       "      <td>0</td>\n",
       "      <td>Neda</td>\n",
       "      <td>NaN</td>\n",
       "      <td>voice</td>\n",
       "      <td>1556223132</td>\n",
       "      <td>0</td>\n",
       "      <td>NaN</td>\n",
       "      <td>NaN</td>\n",
       "      <td>0</td>\n",
       "      <td>NaN</td>\n",
       "      <td>7.3</td>\n",
       "      <td>NaN</td>\n",
       "      <td>3</td>\n",
       "      <td>NaN</td>\n",
       "    </tr>\n",
       "  </tbody>\n",
       "</table>\n",
       "</div>"
      ],
      "text/plain": [
       "   message_id  reply_to_id   sender reply_to_sender message_type  \\\n",
       "0        2015         2014  Roozbeh            Neda         text   \n",
       "1        2016            0  Roozbeh             NaN         text   \n",
       "2        2017         2012  Roozbeh            Neda         text   \n",
       "3        2018            0  Roozbeh             NaN      sticker   \n",
       "4        2019            0     Neda             NaN        voice   \n",
       "\n",
       "   message_date  is_forwarded forwarded_from  \\\n",
       "0    1556223065             0            NaN   \n",
       "1    1556223073             0            NaN   \n",
       "2    1556223080             0            NaN   \n",
       "3    1556223106             0            NaN   \n",
       "4    1556223132             0            NaN   \n",
       "\n",
       "                                                text  text_length caption  \\\n",
       "0                                          نه بابااا            9     NaN   \n",
       "1                                         خییلی خوبه           10     NaN   \n",
       "2  If it was easier to shatter everything that ev...           98     NaN   \n",
       "3                                                NaN            0     NaN   \n",
       "4                                                NaN            0     NaN   \n",
       "\n",
       "   media_size photo_resolution  media_duration sticker_emoji  \n",
       "0         NaN              NaN               0           NaN  \n",
       "1         NaN              NaN               0           NaN  \n",
       "2         NaN              NaN               0           NaN  \n",
       "3        29.9              NaN               0             🤘  \n",
       "4         7.3              NaN               3           NaN  "
      ]
     },
     "execution_count": 2,
     "metadata": {},
     "output_type": "execute_result"
    }
   ],
   "source": [
    "data = pd.read_csv(\"data/maos.csv\")\n",
    "data.head()"
   ]
  },
  {
   "cell_type": "code",
   "execution_count": 3,
   "metadata": {},
   "outputs": [
    {
     "data": {
      "text/html": [
       "<div>\n",
       "<style scoped>\n",
       "    .dataframe tbody tr th:only-of-type {\n",
       "        vertical-align: middle;\n",
       "    }\n",
       "\n",
       "    .dataframe tbody tr th {\n",
       "        vertical-align: top;\n",
       "    }\n",
       "\n",
       "    .dataframe thead th {\n",
       "        text-align: right;\n",
       "    }\n",
       "</style>\n",
       "<table border=\"1\" class=\"dataframe\">\n",
       "  <thead>\n",
       "    <tr style=\"text-align: right;\">\n",
       "      <th></th>\n",
       "      <th>sender</th>\n",
       "      <th>message_type</th>\n",
       "      <th>forwarded_from</th>\n",
       "      <th>text</th>\n",
       "      <th>caption</th>\n",
       "      <th>photo_resolution</th>\n",
       "      <th>sticker_emoji</th>\n",
       "    </tr>\n",
       "  </thead>\n",
       "  <tbody>\n",
       "    <tr>\n",
       "      <th>count</th>\n",
       "      <td>17152</td>\n",
       "      <td>17152</td>\n",
       "      <td>545</td>\n",
       "      <td>11814</td>\n",
       "      <td>408</td>\n",
       "      <td>345</td>\n",
       "      <td>3416</td>\n",
       "    </tr>\n",
       "    <tr>\n",
       "      <th>unique</th>\n",
       "      <td>5</td>\n",
       "      <td>11</td>\n",
       "      <td>138</td>\n",
       "      <td>9212</td>\n",
       "      <td>304</td>\n",
       "      <td>284</td>\n",
       "      <td>214</td>\n",
       "    </tr>\n",
       "    <tr>\n",
       "      <th>top</th>\n",
       "      <td>Amir</td>\n",
       "      <td>text</td>\n",
       "      <td>Amir</td>\n",
       "      <td>😂😂</td>\n",
       "      <td>🎧 آهنگیفای: جستجوی موزیک</td>\n",
       "      <td>540x960</td>\n",
       "      <td>😂</td>\n",
       "    </tr>\n",
       "    <tr>\n",
       "      <th>freq</th>\n",
       "      <td>5091</td>\n",
       "      <td>11814</td>\n",
       "      <td>81</td>\n",
       "      <td>427</td>\n",
       "      <td>55</td>\n",
       "      <td>7</td>\n",
       "      <td>530</td>\n",
       "    </tr>\n",
       "  </tbody>\n",
       "</table>\n",
       "</div>"
      ],
      "text/plain": [
       "       sender message_type forwarded_from   text                   caption  \\\n",
       "count   17152        17152            545  11814                       408   \n",
       "unique      5           11            138   9212                       304   \n",
       "top      Amir         text           Amir     😂😂  🎧 آهنگیفای: جستجوی موزیک   \n",
       "freq     5091        11814             81    427                        55   \n",
       "\n",
       "       photo_resolution sticker_emoji  \n",
       "count               345          3416  \n",
       "unique              284           214  \n",
       "top             540x960             😂  \n",
       "freq                  7           530  "
      ]
     },
     "execution_count": 3,
     "metadata": {},
     "output_type": "execute_result"
    }
   ],
   "source": [
    "data[[\"sender\", \"message_type\", \"forwarded_from\", \"text\", \"caption\", \"photo_resolution\", \"sticker_emoji\"]].describe()"
   ]
  },
  {
   "cell_type": "code",
   "execution_count": 4,
   "metadata": {
    "scrolled": false
   },
   "outputs": [
    {
     "name": "stdout",
     "output_type": "stream",
     "text": [
      "<class 'pandas.core.frame.DataFrame'>\n",
      "RangeIndex: 17152 entries, 0 to 17151\n",
      "Data columns (total 15 columns):\n",
      "message_id          17152 non-null int64\n",
      "reply_to_id         17152 non-null int64\n",
      "sender              17152 non-null object\n",
      "reply_to_sender     7981 non-null object\n",
      "message_type        17152 non-null object\n",
      "message_date        17152 non-null int64\n",
      "is_forwarded        17152 non-null int64\n",
      "forwarded_from      545 non-null object\n",
      "text                11814 non-null object\n",
      "text_length         17152 non-null int64\n",
      "caption             408 non-null object\n",
      "media_size          5335 non-null float64\n",
      "photo_resolution    345 non-null object\n",
      "media_duration      17152 non-null int64\n",
      "sticker_emoji       3416 non-null object\n",
      "dtypes: float64(1), int64(6), object(8)\n",
      "memory usage: 2.0+ MB\n"
     ]
    }
   ],
   "source": [
    "data.info()"
   ]
  },
  {
   "cell_type": "code",
   "execution_count": 5,
   "metadata": {},
   "outputs": [
    {
     "data": {
      "text/plain": [
       "array(['Roozbeh', 'Neda', 'Amir', 'Pouya', 'Barsin'], dtype=object)"
      ]
     },
     "execution_count": 5,
     "metadata": {},
     "output_type": "execute_result"
    }
   ],
   "source": [
    "pd.unique(data[[\"sender\"]].values.ravel('K'))"
   ]
  },
  {
   "cell_type": "code",
   "execution_count": 6,
   "metadata": {},
   "outputs": [
    {
     "data": {
      "text/plain": [
       "array(['text', 'sticker', 'voice', 'audio', 'video file', 'photo',\n",
       "       'animation', 'file', 'video message', 'contact', 'poll'],\n",
       "      dtype=object)"
      ]
     },
     "execution_count": 6,
     "metadata": {},
     "output_type": "execute_result"
    }
   ],
   "source": [
    "pd.unique(data[[\"message_type\"]].values.ravel(\"K\"))"
   ]
  },
  {
   "cell_type": "code",
   "execution_count": 7,
   "metadata": {},
   "outputs": [
    {
     "data": {
      "text/plain": [
       "text             11814\n",
       "sticker           3416\n",
       "animation          565\n",
       "voice              480\n",
       "audio              377\n",
       "photo              345\n",
       "video file         105\n",
       "file                39\n",
       "video message        8\n",
       "contact              2\n",
       "poll                 1\n",
       "Name: message_type, dtype: int64"
      ]
     },
     "execution_count": 7,
     "metadata": {},
     "output_type": "execute_result"
    }
   ],
   "source": [
    "data[\"message_type\"].value_counts()"
   ]
  },
  {
   "cell_type": "code",
   "execution_count": 8,
   "metadata": {
    "scrolled": true
   },
   "outputs": [
    {
     "data": {
      "text/plain": [
       "Roozbeh    3299\n",
       "Amir       3120\n",
       "Neda       2164\n",
       "Barsin     1704\n",
       "Pouya      1527\n",
       "Name: sender, dtype: int64"
      ]
     },
     "execution_count": 8,
     "metadata": {},
     "output_type": "execute_result"
    }
   ],
   "source": [
    "data.loc[data[\"message_type\"] == \"text\"][\"sender\"].value_counts()"
   ]
  },
  {
   "cell_type": "code",
   "execution_count": 9,
   "metadata": {},
   "outputs": [
    {
     "data": {
      "text/plain": [
       "0    16531\n",
       "1      621\n",
       "Name: is_forwarded, dtype: int64"
      ]
     },
     "execution_count": 9,
     "metadata": {},
     "output_type": "execute_result"
    }
   ],
   "source": [
    "data[\"is_forwarded\"].value_counts()"
   ]
  },
  {
   "cell_type": "code",
   "execution_count": 10,
   "metadata": {},
   "outputs": [
    {
     "data": {
      "text/plain": [
       "11814"
      ]
     },
     "execution_count": 10,
     "metadata": {},
     "output_type": "execute_result"
    }
   ],
   "source": [
    "len(data.loc[(data[\"message_type\"] == \"text\") & (data[\"text\"].notnull())].index)"
   ]
  },
  {
   "cell_type": "code",
   "execution_count": 11,
   "metadata": {},
   "outputs": [
    {
     "data": {
      "text/plain": [
       "0"
      ]
     },
     "execution_count": 11,
     "metadata": {},
     "output_type": "execute_result"
    }
   ],
   "source": [
    "len(data.loc[(data[\"message_type\"] != \"text\") & (data[\"text\"].notnull())])"
   ]
  },
  {
   "cell_type": "code",
   "execution_count": 12,
   "metadata": {},
   "outputs": [
    {
     "data": {
      "text/plain": [
       "0"
      ]
     },
     "execution_count": 12,
     "metadata": {},
     "output_type": "execute_result"
    }
   ],
   "source": [
    "len(data.loc[(data[\"message_type\"] == \"text\") & (data[\"caption\"].notnull())].index)"
   ]
  },
  {
   "cell_type": "code",
   "execution_count": 13,
   "metadata": {
    "scrolled": true
   },
   "outputs": [
    {
     "data": {
      "text/plain": [
       "408"
      ]
     },
     "execution_count": 13,
     "metadata": {},
     "output_type": "execute_result"
    }
   ],
   "source": [
    "len(data.loc[(data[\"message_type\"] != \"text\") & (data[\"caption\"].notnull())].index)"
   ]
  },
  {
   "cell_type": "code",
   "execution_count": 14,
   "metadata": {
    "scrolled": true
   },
   "outputs": [
    {
     "data": {
      "text/plain": [
       "0"
      ]
     },
     "execution_count": 14,
     "metadata": {},
     "output_type": "execute_result"
    }
   ],
   "source": [
    "len(data.loc[(data[\"text\"].notnull()) & (data[\"caption\"].notnull())].index)"
   ]
  },
  {
   "cell_type": "code",
   "execution_count": 15,
   "metadata": {
    "scrolled": false
   },
   "outputs": [
    {
     "data": {
      "text/plain": [
       "0"
      ]
     },
     "execution_count": 15,
     "metadata": {},
     "output_type": "execute_result"
    }
   ],
   "source": [
    "len(data.loc[(data[\"message_type\"] != \"sticker\") & (data[\"sticker_emoji\"].notnull())].index)"
   ]
  },
  {
   "cell_type": "code",
   "execution_count": 16,
   "metadata": {},
   "outputs": [
    {
     "data": {
      "text/plain": [
       "4059805.256"
      ]
     },
     "execution_count": 16,
     "metadata": {},
     "output_type": "execute_result"
    }
   ],
   "source": [
    "data[\"media_size\"].sum()"
   ]
  },
  {
   "cell_type": "code",
   "execution_count": 17,
   "metadata": {
    "scrolled": true
   },
   "outputs": [
    {
     "data": {
      "text/plain": [
       "3142174.5"
      ]
     },
     "execution_count": 17,
     "metadata": {},
     "output_type": "execute_result"
    }
   ],
   "source": [
    "data.loc[data[\"message_type\"] == \"audio\"][\"media_size\"].sum()"
   ]
  },
  {
   "cell_type": "code",
   "execution_count": 18,
   "metadata": {},
   "outputs": [
    {
     "data": {
      "text/plain": [
       "113063"
      ]
     },
     "execution_count": 18,
     "metadata": {},
     "output_type": "execute_result"
    }
   ],
   "source": [
    "data[\"media_duration\"].sum()"
   ]
  },
  {
   "cell_type": "code",
   "execution_count": 19,
   "metadata": {
    "scrolled": true
   },
   "outputs": [
    {
     "data": {
      "text/plain": [
       "0    5338\n",
       "Name: text_length, dtype: int64"
      ]
     },
     "execution_count": 19,
     "metadata": {},
     "output_type": "execute_result"
    }
   ],
   "source": [
    "data.loc[data[\"message_type\"] != \"text\"][\"text_length\"].value_counts()"
   ]
  },
  {
   "cell_type": "code",
   "execution_count": 20,
   "metadata": {
    "scrolled": false
   },
   "outputs": [
    {
     "data": {
      "text/plain": [
       "0"
      ]
     },
     "execution_count": 20,
     "metadata": {},
     "output_type": "execute_result"
    }
   ],
   "source": [
    "len(data.loc[(data[\"message_type\"] == \"text\") & (data[\"text_length\"] == 0)].index)"
   ]
  },
  {
   "cell_type": "code",
   "execution_count": 21,
   "metadata": {},
   "outputs": [
    {
     "data": {
      "text/plain": [
       "0"
      ]
     },
     "execution_count": 21,
     "metadata": {},
     "output_type": "execute_result"
    }
   ],
   "source": [
    "# If reply_to_id is 0, reply_to_sender must be NaN\n",
    "len(data.loc[(data[\"reply_to_id\"] == 0) & (data[\"reply_to_sender\"].notnull())])"
   ]
  },
  {
   "cell_type": "code",
   "execution_count": 22,
   "metadata": {
    "scrolled": true
   },
   "outputs": [
    {
     "data": {
      "text/html": [
       "<div>\n",
       "<style scoped>\n",
       "    .dataframe tbody tr th:only-of-type {\n",
       "        vertical-align: middle;\n",
       "    }\n",
       "\n",
       "    .dataframe tbody tr th {\n",
       "        vertical-align: top;\n",
       "    }\n",
       "\n",
       "    .dataframe thead th {\n",
       "        text-align: right;\n",
       "    }\n",
       "</style>\n",
       "<table border=\"1\" class=\"dataframe\">\n",
       "  <thead>\n",
       "    <tr style=\"text-align: right;\">\n",
       "      <th></th>\n",
       "      <th>message_id</th>\n",
       "      <th>reply_to_id</th>\n",
       "      <th>sender</th>\n",
       "      <th>reply_to_sender</th>\n",
       "      <th>message_type</th>\n",
       "      <th>message_date</th>\n",
       "      <th>is_forwarded</th>\n",
       "      <th>forwarded_from</th>\n",
       "      <th>text</th>\n",
       "      <th>text_length</th>\n",
       "      <th>caption</th>\n",
       "      <th>media_size</th>\n",
       "      <th>photo_resolution</th>\n",
       "      <th>media_duration</th>\n",
       "      <th>sticker_emoji</th>\n",
       "    </tr>\n",
       "  </thead>\n",
       "  <tbody>\n",
       "    <tr>\n",
       "      <th>5764</th>\n",
       "      <td>16888</td>\n",
       "      <td>16887</td>\n",
       "      <td>Amir</td>\n",
       "      <td>NaN</td>\n",
       "      <td>text</td>\n",
       "      <td>1576342109</td>\n",
       "      <td>0</td>\n",
       "      <td>NaN</td>\n",
       "      <td>د خب الان اینو می‌خونه دیگه بازش نمی‌کنه</td>\n",
       "      <td>40</td>\n",
       "      <td>NaN</td>\n",
       "      <td>NaN</td>\n",
       "      <td>NaN</td>\n",
       "      <td>0</td>\n",
       "      <td>NaN</td>\n",
       "    </tr>\n",
       "    <tr>\n",
       "      <th>6281</th>\n",
       "      <td>13383</td>\n",
       "      <td>13381</td>\n",
       "      <td>Neda</td>\n",
       "      <td>NaN</td>\n",
       "      <td>text</td>\n",
       "      <td>1567616650</td>\n",
       "      <td>0</td>\n",
       "      <td>NaN</td>\n",
       "      <td>احمدوفسکی؟ 😂😂</td>\n",
       "      <td>13</td>\n",
       "      <td>NaN</td>\n",
       "      <td>NaN</td>\n",
       "      <td>NaN</td>\n",
       "      <td>0</td>\n",
       "      <td>NaN</td>\n",
       "    </tr>\n",
       "    <tr>\n",
       "      <th>10214</th>\n",
       "      <td>220</td>\n",
       "      <td>217</td>\n",
       "      <td>Roozbeh</td>\n",
       "      <td>NaN</td>\n",
       "      <td>text</td>\n",
       "      <td>1555863406</td>\n",
       "      <td>0</td>\n",
       "      <td>NaN</td>\n",
       "      <td>🤦🏻‍♂️🤦🏻‍♂️😂😂😂</td>\n",
       "      <td>13</td>\n",
       "      <td>NaN</td>\n",
       "      <td>NaN</td>\n",
       "      <td>NaN</td>\n",
       "      <td>0</td>\n",
       "      <td>NaN</td>\n",
       "    </tr>\n",
       "    <tr>\n",
       "      <th>10219</th>\n",
       "      <td>225</td>\n",
       "      <td>217</td>\n",
       "      <td>Amir</td>\n",
       "      <td>NaN</td>\n",
       "      <td>text</td>\n",
       "      <td>1555863432</td>\n",
       "      <td>0</td>\n",
       "      <td>NaN</td>\n",
       "      <td>and thus begins the damnation of this group</td>\n",
       "      <td>43</td>\n",
       "      <td>NaN</td>\n",
       "      <td>NaN</td>\n",
       "      <td>NaN</td>\n",
       "      <td>0</td>\n",
       "      <td>NaN</td>\n",
       "    </tr>\n",
       "    <tr>\n",
       "      <th>10651</th>\n",
       "      <td>660</td>\n",
       "      <td>658</td>\n",
       "      <td>Amir</td>\n",
       "      <td>NaN</td>\n",
       "      <td>text</td>\n",
       "      <td>1555922747</td>\n",
       "      <td>0</td>\n",
       "      <td>NaN</td>\n",
       "      <td>I hate these 😂😑</td>\n",
       "      <td>15</td>\n",
       "      <td>NaN</td>\n",
       "      <td>NaN</td>\n",
       "      <td>NaN</td>\n",
       "      <td>0</td>\n",
       "      <td>NaN</td>\n",
       "    </tr>\n",
       "  </tbody>\n",
       "</table>\n",
       "</div>"
      ],
      "text/plain": [
       "       message_id  reply_to_id   sender reply_to_sender message_type  \\\n",
       "5764        16888        16887     Amir             NaN         text   \n",
       "6281        13383        13381     Neda             NaN         text   \n",
       "10214         220          217  Roozbeh             NaN         text   \n",
       "10219         225          217     Amir             NaN         text   \n",
       "10651         660          658     Amir             NaN         text   \n",
       "\n",
       "       message_date  is_forwarded forwarded_from  \\\n",
       "5764     1576342109             0            NaN   \n",
       "6281     1567616650             0            NaN   \n",
       "10214    1555863406             0            NaN   \n",
       "10219    1555863432             0            NaN   \n",
       "10651    1555922747             0            NaN   \n",
       "\n",
       "                                              text  text_length caption  \\\n",
       "5764      د خب الان اینو می‌خونه دیگه بازش نمی‌کنه           40     NaN   \n",
       "6281                                 احمدوفسکی؟ 😂😂           13     NaN   \n",
       "10214                                🤦🏻‍♂️🤦🏻‍♂️😂😂😂           13     NaN   \n",
       "10219  and thus begins the damnation of this group           43     NaN   \n",
       "10651                              I hate these 😂😑           15     NaN   \n",
       "\n",
       "       media_size photo_resolution  media_duration sticker_emoji  \n",
       "5764          NaN              NaN               0           NaN  \n",
       "6281          NaN              NaN               0           NaN  \n",
       "10214         NaN              NaN               0           NaN  \n",
       "10219         NaN              NaN               0           NaN  \n",
       "10651         NaN              NaN               0           NaN  "
      ]
     },
     "execution_count": 22,
     "metadata": {},
     "output_type": "execute_result"
    }
   ],
   "source": [
    "# if reply_to_id isn't 0, reply_to_sender mustn't be NaN (unless it was a reply on a service message, or the message was deleted)\n",
    "data.loc[(data[\"reply_to_id\"] != 0) & (data[\"reply_to_sender\"].isnull())]"
   ]
  },
  {
   "cell_type": "code",
   "execution_count": 23,
   "metadata": {},
   "outputs": [
    {
     "data": {
      "text/plain": [
       "sender\n",
       "Amir       21.835199\n",
       "Barsin     15.170061\n",
       "Neda       11.685135\n",
       "Pouya      18.338469\n",
       "Roozbeh    11.286207\n",
       "Name: text_length, dtype: float64"
      ]
     },
     "execution_count": 23,
     "metadata": {},
     "output_type": "execute_result"
    }
   ],
   "source": [
    "data.groupby([\"sender\"])[\"text_length\"].mean()"
   ]
  }
 ],
 "metadata": {
  "kernelspec": {
   "display_name": "Python 3",
   "language": "python",
   "name": "python3"
  },
  "language_info": {
   "codemirror_mode": {
    "name": "ipython",
    "version": 3
   },
   "file_extension": ".py",
   "mimetype": "text/x-python",
   "name": "python",
   "nbconvert_exporter": "python",
   "pygments_lexer": "ipython3",
   "version": "3.8.1"
  }
 },
 "nbformat": 4,
 "nbformat_minor": 2
}
