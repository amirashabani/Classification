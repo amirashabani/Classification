{
 "cells": [
  {
   "cell_type": "code",
   "execution_count": 1,
   "metadata": {},
   "outputs": [],
   "source": [
    "# Import necessary libraries\n",
    "import pandas as pd"
   ]
  },
  {
   "cell_type": "code",
   "execution_count": 2,
   "metadata": {
    "scrolled": false
   },
   "outputs": [
    {
     "data": {
      "text/html": [
       "<div>\n",
       "<style scoped>\n",
       "    .dataframe tbody tr th:only-of-type {\n",
       "        vertical-align: middle;\n",
       "    }\n",
       "\n",
       "    .dataframe tbody tr th {\n",
       "        vertical-align: top;\n",
       "    }\n",
       "\n",
       "    .dataframe thead th {\n",
       "        text-align: right;\n",
       "    }\n",
       "</style>\n",
       "<table border=\"1\" class=\"dataframe\">\n",
       "  <thead>\n",
       "    <tr style=\"text-align: right;\">\n",
       "      <th></th>\n",
       "      <th>message_id</th>\n",
       "      <th>reply_to_id</th>\n",
       "      <th>sender</th>\n",
       "      <th>message_type</th>\n",
       "      <th>message_date</th>\n",
       "      <th>is_forwarded</th>\n",
       "      <th>forwarded_from</th>\n",
       "      <th>text</th>\n",
       "      <th>caption</th>\n",
       "      <th>media_size</th>\n",
       "      <th>photo_resolution</th>\n",
       "      <th>media_duration</th>\n",
       "      <th>sticker_emoji</th>\n",
       "    </tr>\n",
       "  </thead>\n",
       "  <tbody>\n",
       "    <tr>\n",
       "      <th>0</th>\n",
       "      <td>2015</td>\n",
       "      <td>2014</td>\n",
       "      <td>Roozbeh</td>\n",
       "      <td>text</td>\n",
       "      <td>1556223065</td>\n",
       "      <td>0</td>\n",
       "      <td>NaN</td>\n",
       "      <td>نه بابااا</td>\n",
       "      <td>NaN</td>\n",
       "      <td>NaN</td>\n",
       "      <td>NaN</td>\n",
       "      <td>NaN</td>\n",
       "      <td>NaN</td>\n",
       "    </tr>\n",
       "    <tr>\n",
       "      <th>1</th>\n",
       "      <td>2016</td>\n",
       "      <td>0</td>\n",
       "      <td>Roozbeh</td>\n",
       "      <td>text</td>\n",
       "      <td>1556223073</td>\n",
       "      <td>0</td>\n",
       "      <td>NaN</td>\n",
       "      <td>خییلی خوبه</td>\n",
       "      <td>NaN</td>\n",
       "      <td>NaN</td>\n",
       "      <td>NaN</td>\n",
       "      <td>NaN</td>\n",
       "      <td>NaN</td>\n",
       "    </tr>\n",
       "    <tr>\n",
       "      <th>2</th>\n",
       "      <td>2017</td>\n",
       "      <td>2012</td>\n",
       "      <td>Roozbeh</td>\n",
       "      <td>text</td>\n",
       "      <td>1556223080</td>\n",
       "      <td>0</td>\n",
       "      <td>NaN</td>\n",
       "      <td>If it was easier to shatter everything that ev...</td>\n",
       "      <td>NaN</td>\n",
       "      <td>NaN</td>\n",
       "      <td>NaN</td>\n",
       "      <td>NaN</td>\n",
       "      <td>NaN</td>\n",
       "    </tr>\n",
       "    <tr>\n",
       "      <th>3</th>\n",
       "      <td>2018</td>\n",
       "      <td>0</td>\n",
       "      <td>Roozbeh</td>\n",
       "      <td>sticker</td>\n",
       "      <td>1556223106</td>\n",
       "      <td>0</td>\n",
       "      <td>NaN</td>\n",
       "      <td>NaN</td>\n",
       "      <td>NaN</td>\n",
       "      <td>29.9 KB</td>\n",
       "      <td>NaN</td>\n",
       "      <td>NaN</td>\n",
       "      <td>🤘</td>\n",
       "    </tr>\n",
       "    <tr>\n",
       "      <th>4</th>\n",
       "      <td>2019</td>\n",
       "      <td>0</td>\n",
       "      <td>Neda</td>\n",
       "      <td>voice</td>\n",
       "      <td>1556223132</td>\n",
       "      <td>0</td>\n",
       "      <td>NaN</td>\n",
       "      <td>NaN</td>\n",
       "      <td>NaN</td>\n",
       "      <td>7.3 KB</td>\n",
       "      <td>NaN</td>\n",
       "      <td>00:03</td>\n",
       "      <td>NaN</td>\n",
       "    </tr>\n",
       "  </tbody>\n",
       "</table>\n",
       "</div>"
      ],
      "text/plain": [
       "   message_id  reply_to_id   sender message_type  message_date  is_forwarded  \\\n",
       "0        2015         2014  Roozbeh         text    1556223065             0   \n",
       "1        2016            0  Roozbeh         text    1556223073             0   \n",
       "2        2017         2012  Roozbeh         text    1556223080             0   \n",
       "3        2018            0  Roozbeh      sticker    1556223106             0   \n",
       "4        2019            0     Neda        voice    1556223132             0   \n",
       "\n",
       "  forwarded_from                                               text caption  \\\n",
       "0            NaN                                          نه بابااا     NaN   \n",
       "1            NaN                                         خییلی خوبه     NaN   \n",
       "2            NaN  If it was easier to shatter everything that ev...     NaN   \n",
       "3            NaN                                                NaN     NaN   \n",
       "4            NaN                                                NaN     NaN   \n",
       "\n",
       "  media_size photo_resolution media_duration sticker_emoji  \n",
       "0        NaN              NaN            NaN           NaN  \n",
       "1        NaN              NaN            NaN           NaN  \n",
       "2        NaN              NaN            NaN           NaN  \n",
       "3    29.9 KB              NaN            NaN             🤘  \n",
       "4     7.3 KB              NaN          00:03           NaN  "
      ]
     },
     "execution_count": 2,
     "metadata": {},
     "output_type": "execute_result"
    }
   ],
   "source": [
    "data = pd.read_csv(\"data/maos.csv\")\n",
    "data.head()"
   ]
  },
  {
   "cell_type": "code",
   "execution_count": null,
   "metadata": {},
   "outputs": [],
   "source": [
    "data[[\"sender\", \"message_type\", \"forwarded_from\", \"text\", \"caption\", \"media_size\", \"photo_resolution\", \"media_duration\", \"sticker_emoji\"]].describe()"
   ]
  },
  {
   "cell_type": "code",
   "execution_count": 3,
   "metadata": {
    "scrolled": false
   },
   "outputs": [
    {
     "name": "stdout",
     "output_type": "stream",
     "text": [
      "<class 'pandas.core.frame.DataFrame'>\n",
      "RangeIndex: 17152 entries, 0 to 17151\n",
      "Data columns (total 13 columns):\n",
      "message_id          17152 non-null int64\n",
      "reply_to_id         17152 non-null int64\n",
      "sender              17152 non-null object\n",
      "message_type        17152 non-null object\n",
      "message_date        17152 non-null int64\n",
      "is_forwarded        17152 non-null int64\n",
      "forwarded_from      545 non-null object\n",
      "text                11524 non-null object\n",
      "caption             213 non-null object\n",
      "media_size          5335 non-null object\n",
      "photo_resolution    345 non-null object\n",
      "media_duration      970 non-null object\n",
      "sticker_emoji       3416 non-null object\n",
      "dtypes: int64(4), object(9)\n",
      "memory usage: 1.7+ MB\n"
     ]
    }
   ],
   "source": [
    "data.info()"
   ]
  },
  {
   "cell_type": "code",
   "execution_count": 4,
   "metadata": {},
   "outputs": [
    {
     "data": {
      "text/plain": [
       "array(['Roozbeh', 'Neda', 'Amir', 'Pouya', 'Barsin'], dtype=object)"
      ]
     },
     "execution_count": 4,
     "metadata": {},
     "output_type": "execute_result"
    }
   ],
   "source": [
    "pd.unique(data[[\"sender\"]].values.ravel('K'))"
   ]
  },
  {
   "cell_type": "code",
   "execution_count": 5,
   "metadata": {},
   "outputs": [
    {
     "data": {
      "text/plain": [
       "array(['text', 'sticker', 'voice', 'audio', 'video file', 'photo',\n",
       "       'animation', 'file', 'video message', 'contact'], dtype=object)"
      ]
     },
     "execution_count": 5,
     "metadata": {},
     "output_type": "execute_result"
    }
   ],
   "source": [
    "pd.unique(data[[\"message_type\"]].values.ravel(\"K\"))"
   ]
  },
  {
   "cell_type": "code",
   "execution_count": 6,
   "metadata": {},
   "outputs": [
    {
     "data": {
      "text/plain": [
       "text             11815\n",
       "sticker           3416\n",
       "animation          565\n",
       "voice              480\n",
       "audio              377\n",
       "photo              345\n",
       "video file         105\n",
       "file                39\n",
       "video message        8\n",
       "contact              2\n",
       "Name: message_type, dtype: int64"
      ]
     },
     "execution_count": 6,
     "metadata": {},
     "output_type": "execute_result"
    }
   ],
   "source": [
    "data[\"message_type\"].value_counts()"
   ]
  },
  {
   "cell_type": "code",
   "execution_count": 7,
   "metadata": {
    "scrolled": true
   },
   "outputs": [
    {
     "data": {
      "text/plain": [
       "Roozbeh    3299\n",
       "Amir       3121\n",
       "Neda       2164\n",
       "Barsin     1704\n",
       "Pouya      1527\n",
       "Name: sender, dtype: int64"
      ]
     },
     "execution_count": 7,
     "metadata": {},
     "output_type": "execute_result"
    }
   ],
   "source": [
    "data.loc[data[\"message_type\"] == \"text\"][\"sender\"].value_counts()"
   ]
  },
  {
   "cell_type": "code",
   "execution_count": 8,
   "metadata": {},
   "outputs": [
    {
     "data": {
      "text/plain": [
       "0    16531\n",
       "1      621\n",
       "Name: is_forwarded, dtype: int64"
      ]
     },
     "execution_count": 8,
     "metadata": {},
     "output_type": "execute_result"
    }
   ],
   "source": [
    "data[\"is_forwarded\"].value_counts()"
   ]
  },
  {
   "cell_type": "code",
   "execution_count": 9,
   "metadata": {},
   "outputs": [
    {
     "data": {
      "text/plain": [
       "11524"
      ]
     },
     "execution_count": 9,
     "metadata": {},
     "output_type": "execute_result"
    }
   ],
   "source": [
    "len(data.loc[(data[\"message_type\"] == \"text\") & (data[\"text\"].notnull())].index)"
   ]
  },
  {
   "cell_type": "code",
   "execution_count": 10,
   "metadata": {},
   "outputs": [
    {
     "data": {
      "text/plain": [
       "0"
      ]
     },
     "execution_count": 10,
     "metadata": {},
     "output_type": "execute_result"
    }
   ],
   "source": [
    "len(data.loc[(data[\"message_type\"] != \"text\") & (data[\"text\"].notnull())])"
   ]
  },
  {
   "cell_type": "code",
   "execution_count": 11,
   "metadata": {},
   "outputs": [
    {
     "data": {
      "text/plain": [
       "0"
      ]
     },
     "execution_count": 11,
     "metadata": {},
     "output_type": "execute_result"
    }
   ],
   "source": [
    "len(data.loc[(data[\"message_type\"] == \"text\") & (data[\"caption\"].notnull())].index)"
   ]
  },
  {
   "cell_type": "code",
   "execution_count": 12,
   "metadata": {
    "scrolled": true
   },
   "outputs": [
    {
     "data": {
      "text/plain": [
       "213"
      ]
     },
     "execution_count": 12,
     "metadata": {},
     "output_type": "execute_result"
    }
   ],
   "source": [
    "len(data.loc[(data[\"message_type\"] != \"text\") & (data[\"caption\"].notnull())].index)"
   ]
  },
  {
   "cell_type": "code",
   "execution_count": 13,
   "metadata": {
    "scrolled": true
   },
   "outputs": [
    {
     "data": {
      "text/plain": [
       "0"
      ]
     },
     "execution_count": 13,
     "metadata": {},
     "output_type": "execute_result"
    }
   ],
   "source": [
    "len(data.loc[(data[\"text\"].notnull()) & (data[\"caption\"].notnull())].index)"
   ]
  },
  {
   "cell_type": "code",
   "execution_count": 14,
   "metadata": {
    "scrolled": true
   },
   "outputs": [
    {
     "data": {
      "text/plain": [
       "0"
      ]
     },
     "execution_count": 14,
     "metadata": {},
     "output_type": "execute_result"
    }
   ],
   "source": [
    "len(data.loc[(data[\"message_type\"] != \"sticker\") & (data[\"sticker_emoji\"].notnull())].index)"
   ]
  },
  {
   "cell_type": "code",
   "execution_count": 16,
   "metadata": {
    "scrolled": true
   },
   "outputs": [
    {
     "data": {
      "text/plain": [
       "KB    4842\n",
       "MB     492\n",
       "B        1\n",
       "Name: media_size, dtype: int64"
      ]
     },
     "execution_count": 16,
     "metadata": {},
     "output_type": "execute_result"
    }
   ],
   "source": [
    "data.loc[data[\"media_size\"].notnull()][\"media_size\"].apply(lambda x: x.split(' ')[1]).value_counts()"
   ]
  }
 ],
 "metadata": {
  "kernelspec": {
   "display_name": "Python 3",
   "language": "python",
   "name": "python3"
  },
  "language_info": {
   "codemirror_mode": {
    "name": "ipython",
    "version": 3
   },
   "file_extension": ".py",
   "mimetype": "text/x-python",
   "name": "python",
   "nbconvert_exporter": "python",
   "pygments_lexer": "ipython3",
   "version": "3.8.1"
  }
 },
 "nbformat": 4,
 "nbformat_minor": 2
}
