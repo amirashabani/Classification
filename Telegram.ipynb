{
 "cells": [
  {
   "cell_type": "code",
   "execution_count": null,
   "metadata": {},
   "outputs": [],
   "source": [
    "# Import necessary libraries\n",
    "import pandas as pd\n",
    "from datetime import timedelta\n",
    "from datetime import datetime as dt\n",
    "import matplotlib.pyplot as plt\n",
    "%matplotlib inline"
   ]
  },
  {
   "cell_type": "code",
   "execution_count": null,
   "metadata": {},
   "outputs": [],
   "source": [
    "# Load data and show first five rows\n",
    "data = pd.read_csv(\"data/SE94.csv\")\n",
    "data.head()"
   ]
  },
  {
   "cell_type": "code",
   "execution_count": null,
   "metadata": {},
   "outputs": [],
   "source": [
    "# Describe non-numerical columns\n",
    "data[[\"sender\", \"message_type\", \"forwarded_from\", \"text\", \"caption\", \"photo_resolution\", \"sticker_emoji\"]].describe()"
   ]
  },
  {
   "cell_type": "code",
   "execution_count": null,
   "metadata": {},
   "outputs": [],
   "source": [
    "# General info about DataFrame\n",
    "data.info()"
   ]
  },
  {
   "cell_type": "code",
   "execution_count": null,
   "metadata": {},
   "outputs": [],
   "source": [
    "# Members of the group\n",
    "pd.unique(data[[\"sender\"]].values.ravel('K'))"
   ]
  },
  {
   "cell_type": "code",
   "execution_count": null,
   "metadata": {},
   "outputs": [],
   "source": [
    "# All differente message types\n",
    "pd.unique(data[[\"message_type\"]].values.ravel(\"K\"))"
   ]
  },
  {
   "cell_type": "code",
   "execution_count": null,
   "metadata": {},
   "outputs": [],
   "source": [
    "# How many message in each type of message?\n",
    "data[\"message_type\"].value_counts()"
   ]
  },
  {
   "cell_type": "code",
   "execution_count": null,
   "metadata": {},
   "outputs": [],
   "source": [
    "# How many text messages each member has sent?\n",
    "data.loc[data[\"message_type\"] == \"text\"][\"sender\"].value_counts()"
   ]
  },
  {
   "cell_type": "code",
   "execution_count": null,
   "metadata": {},
   "outputs": [],
   "source": [
    "# Average message length for each member of the group\n",
    "data.groupby([\"sender\"])[\"text_length\"].mean()"
   ]
  },
  {
   "cell_type": "code",
   "execution_count": null,
   "metadata": {},
   "outputs": [],
   "source": [
    "# For each member of the group, whom they have most replied to.\n",
    "members = list(pd.unique(data[\"sender\"].values.ravel(\"K\")))\n",
    "for member in members:\n",
    "    reply_to_sender_values = ', '.join(list(data.loc[data[\"sender\"] == member][\"reply_to_sender\"].value_counts().index))\n",
    "    print(f\"{member}\\t→ {reply_to_sender_values}\")"
   ]
  },
  {
   "cell_type": "code",
   "execution_count": null,
   "metadata": {},
   "outputs": [],
   "source": [
    "# Which member has used the letter و most?\n",
    "data[\"text\"].apply(lambda x: x.count('و') if type(x) == str else 0)"
   ]
  },
  {
   "cell_type": "code",
   "execution_count": null,
   "metadata": {},
   "outputs": [],
   "source": [
    "# How many replies, exluding those on themselves\n",
    "data.loc[(data[\"reply_to_id\"] != 0) & (data[\"reply_to_sender\"] != data[\"sender\"])][\"sender\"].value_counts()"
   ]
  },
  {
   "cell_type": "code",
   "execution_count": null,
   "metadata": {},
   "outputs": [],
   "source": [
    "# What percentage of messages were replies\n",
    "replies = data.loc[data[\"reply_to_id\"] != 0][\"sender\"].value_counts()\n",
    "all_messages = data[\"sender\"].value_counts()\n",
    "(replies / all_messages * 100).sort_values(ascending=False)"
   ]
  },
  {
   "cell_type": "code",
   "execution_count": null,
   "metadata": {},
   "outputs": [],
   "source": [
    "# Average length of text messages, per member\n",
    "data.groupby([\"sender\"])[\"text_length\"].mean().round(2).sort_values(ascending=False).to_frame(\"average length\")"
   ]
  },
  {
   "cell_type": "code",
   "execution_count": null,
   "metadata": {},
   "outputs": [],
   "source": [
    "# How many times they've said bekiram\n",
    "bk_en = [\" bk \", \"bekiram\", \"bkirm\", \"b kirm\", \"b kiram\", \"be kiram\", \"be kirm\"]\n",
    "bk_fa = [\"بکیرم\", \"به کیرم\", \"ب کیرم\"]\n",
    "bk = bk_en + bk_fa\n",
    "data.loc[data[\"text\"].str.contains('|'.join(bk), na=False)][\"sender\"].value_counts()"
   ]
  },
  {
   "cell_type": "code",
   "execution_count": null,
   "metadata": {},
   "outputs": [],
   "source": [
    "# Average audio length\n",
    "sec = int(data.loc[data[\"message_type\"] == \"audio\"][\"media_duration\"].mean())\n",
    "avg_time = str(timedelta(seconds=sec))\n",
    "avg_time"
   ]
  },
  {
   "cell_type": "code",
   "execution_count": null,
   "metadata": {},
   "outputs": [],
   "source": [
    "# Audio stats for {Amir, Hossein, and Shahin}\n",
    "members = [\"Amir\", \"Hossein\", \"Shahin\"]\n",
    "for member in members:\n",
    "    count = len(data.loc[(data[\"message_type\"] == \"audio\") & (data[\"sender\"] == member)].index)\n",
    "    sec = int(data.loc[(data[\"message_type\"] == \"audio\") & (data[\"sender\"] == member)][\"media_duration\"].mean())\n",
    "    avg_time = str(timedelta(seconds=sec))\n",
    "    print(f\"{member} sent {count} songs with an average of {avg_time}.\")"
   ]
  },
  {
   "cell_type": "code",
   "execution_count": null,
   "metadata": {},
   "outputs": [],
   "source": [
    "# Extract {day_of_week, day_of_month, hour_of_day, month_of_year} from message_date and drop message_date\n",
    "day_of_week = data[\"message_date\"].apply(lambda x: dt.utcfromtimestamp(x).strftime(\"%w\"))\n",
    "data.insert(loc=6, column=\"day_of_week\", value=day_of_week)\n",
    "\n",
    "day_of_month = data[\"message_date\"].apply(lambda x: dt.utcfromtimestamp(x).strftime(\"%d\"))\n",
    "data.insert(loc=7, column=\"day_of_month\", value=day_of_month)\n",
    "\n",
    "hour_of_day = data[\"message_date\"].apply(lambda x: dt.utcfromtimestamp(x).strftime(\"%H\"))\n",
    "data.insert(loc=8, column=\"hour_of_day\", value=hour_of_day)\n",
    "\n",
    "month_of_year = data[\"message_date\"].apply(lambda x: dt.utcfromtimestamp(x).strftime(\"%m\"))\n",
    "data.insert(loc=9, column=\"month_of_year\", value=month_of_year)\n",
    "\n",
    "del data[\"message_date\"]\n",
    "data.head()"
   ]
  },
  {
   "cell_type": "code",
   "execution_count": null,
   "metadata": {},
   "outputs": [],
   "source": [
    "# Number of messages per day of week\n",
    "days = [\"Sun\", \"Mon\", \"Tue\", \"Wed\", \"Thu\", \"Fri\", \"Sat\"]\n",
    "all_df = data[\"day_of_week\"].value_counts()\n",
    "all_dow = list(zip(*sorted(list(zip(all_df.index, all_df)), key=lambda x: x[0])))\n",
    "\n",
    "amir_df = data.loc[data[\"sender\"] == \"Amir\"][\"day_of_week\"].value_counts()\n",
    "amir_dow = list(zip(*sorted(list(zip(amir_df.index, amir_df)), key=lambda x: x[0])))\n",
    "\n",
    "all_y_axis = all_dow[1]\n",
    "amir_y_axis = amir_dow[1]\n",
    "\n",
    "plt.figure(dpi=120)\n",
    "# plt.plot(days, all_y_axis)\n",
    "plt.plot(days, amir_y_axis)\n",
    "plt.title('Number of messages per day of week')\n",
    "plt.show()"
   ]
  },
  {
   "cell_type": "code",
   "execution_count": null,
   "metadata": {},
   "outputs": [],
   "source": [
    "# Number of messages per day of week for all members of the group, including the average\n",
    "plt.figure(dpi=120)\n",
    "\n",
    "all_members = pd.unique(data[[\"sender\"]].values.ravel(\"K\"))\n",
    "all_df = data[\"day_of_week\"].value_counts() / len(all_members)\n",
    "all_dow = list(zip(*sorted(list(zip(all_df.index, all_df)), key=lambda x: x[0])))\n",
    "all_y_axis = all_dow[1]\n",
    "plt.plot(days, all_y_axis, label=\"average\", dashes=(0.6, 5), dash_capstyle='round', color='black')\n",
    "\n",
    "for member in all_members:\n",
    "    member_df = data.loc[data[\"sender\"] == member][\"day_of_week\"].value_counts()\n",
    "    member_dow = list(zip(*sorted(list(zip(member_df.index, member_df)), key=lambda x: x[0])))\n",
    "    member_y_axis = member_dow[1]\n",
    "    if len(member_y_axis) == 7:\n",
    "        plt.plot(days, member_y_axis, label=member)\n",
    "    \n",
    "plt.title('Number of messages per day of week')\n",
    "plt.legend(loc=\"upper center\", bbox_to_anchor=(0.5, 1), ncol=3, prop={\"size\": 7})\n",
    "plt.savefig(\"Number of messages per day of week - Music and Other Shits.png\", dpi=500)\n",
    "plt.show()"
   ]
  },
  {
   "cell_type": "code",
   "execution_count": null,
   "metadata": {},
   "outputs": [],
   "source": [
    "# On average, how many messages per day has been sent in the group since the beginning?\n",
    "first_message = data[\"message_date\"].min()\n",
    "last_message = data[\"message_date\"].max()\n",
    "group_age_in_days = round((last_message - first_message) / (24 * 60 * 60))\n",
    "total_messages = len(data.index)\n",
    "average_per_day = total_messages/group_age_in_days\n",
    "print(f\"First message: {dt.utcfromtimestamp(first_message).strftime('%Y-%m-%d %H:%M:%S')}\")\n",
    "print(f\"Last message: {dt.utcfromtimestamp(last_message).strftime('%Y-%m-%d %H:%M:%S')}\")\n",
    "print(f\"Number of messages: {total_messages}\")\n",
    "print(f\"On average, {average_per_day:0.2f} messages per day has been sent in the group since the beginning.\")"
   ]
  }
 ],
 "metadata": {
  "kernelspec": {
   "display_name": "Python 3",
   "language": "python",
   "name": "python3"
  },
  "language_info": {
   "codemirror_mode": {
    "name": "ipython",
    "version": 3
   },
   "file_extension": ".py",
   "mimetype": "text/x-python",
   "name": "python",
   "nbconvert_exporter": "python",
   "pygments_lexer": "ipython3",
   "version": "3.8.1"
  }
 },
 "nbformat": 4,
 "nbformat_minor": 2
}
