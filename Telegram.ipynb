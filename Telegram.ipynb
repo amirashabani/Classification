{
 "cells": [
  {
   "cell_type": "code",
   "execution_count": null,
   "metadata": {},
   "outputs": [],
   "source": [
    "# Import necessary libraries\n",
    "from datetime import timedelta\n",
    "from datetime import datetime as dt\n",
    "from functools import reduce\n",
    "from collections import Counter\n",
    "from tabulate import tabulate\n",
    "from IPython.display import HTML, display\n",
    "from emex import demex\n",
    "import pandas as pd\n",
    "import numpy as np\n",
    "import matplotlib.pyplot as plt;\n",
    "import regex, operator\n",
    "%matplotlib inline"
   ]
  },
  {
   "cell_type": "code",
   "execution_count": null,
   "metadata": {
    "scrolled": true
   },
   "outputs": [],
   "source": [
    "# Load data and show first five rows\n",
    "\n",
    "group = \"UI\"\n",
    "\n",
    "data = pd.read_csv(f\"data/{group}.csv\")\n",
    "data.head()"
   ]
  },
  {
   "cell_type": "code",
   "execution_count": null,
   "metadata": {},
   "outputs": [],
   "source": [
    "# Describe non-numerical columns\n",
    "data[[\"sender\", \"message_type\", \"forwarded_from\", \"text\", \"caption\", \"photo_resolution\", \"sticker_emoji\"]].describe()"
   ]
  },
  {
   "cell_type": "code",
   "execution_count": null,
   "metadata": {},
   "outputs": [],
   "source": [
    "# General info about DataFrame\n",
    "data.info()"
   ]
  },
  {
   "cell_type": "code",
   "execution_count": null,
   "metadata": {},
   "outputs": [],
   "source": [
    "# Members of the group\n",
    "pd.unique(data[[\"sender\"]].values.ravel('K'))"
   ]
  },
  {
   "cell_type": "code",
   "execution_count": null,
   "metadata": {},
   "outputs": [],
   "source": [
    "# All differente message types\n",
    "pd.unique(data[[\"message_type\"]].values.ravel(\"K\"))"
   ]
  },
  {
   "cell_type": "code",
   "execution_count": null,
   "metadata": {},
   "outputs": [],
   "source": [
    "# How many message in each type of message?\n",
    "data[\"message_type\"].value_counts()"
   ]
  },
  {
   "cell_type": "code",
   "execution_count": null,
   "metadata": {},
   "outputs": [],
   "source": [
    "# How many text messages each member has sent?\n",
    "data.loc[data[\"message_type\"] == \"text\"][\"sender\"].value_counts()"
   ]
  },
  {
   "cell_type": "code",
   "execution_count": null,
   "metadata": {},
   "outputs": [],
   "source": [
    "# Average message length for each member of the group\n",
    "data.groupby([\"sender\"])[\"text_length\"].mean()"
   ]
  },
  {
   "cell_type": "code",
   "execution_count": null,
   "metadata": {},
   "outputs": [],
   "source": [
    "# For each member of the group, whom they have most replied to.\n",
    "members = list(pd.unique(data[\"sender\"].values.ravel(\"K\")))\n",
    "for member in members:\n",
    "    reply_to_sender_values = ', '.join(list(data.loc[data[\"sender\"] == member][\"reply_to_sender\"].value_counts().index))\n",
    "    print(f\"{member}\\t→ {reply_to_sender_values}\")"
   ]
  },
  {
   "cell_type": "code",
   "execution_count": null,
   "metadata": {},
   "outputs": [],
   "source": [
    "# Which member has used the letter و most?\n",
    "data[\"text\"].apply(lambda x: x.count('و') if type(x) == str else 0)"
   ]
  },
  {
   "cell_type": "code",
   "execution_count": null,
   "metadata": {},
   "outputs": [],
   "source": [
    "# How many replies, exluding those on themselves\n",
    "data.loc[(data[\"reply_to_id\"] != 0) & (data[\"reply_to_sender\"] != data[\"sender\"])][\"sender\"].value_counts()"
   ]
  },
  {
   "cell_type": "code",
   "execution_count": null,
   "metadata": {},
   "outputs": [],
   "source": [
    "# What percentage of messages were replies\n",
    "replies = data.loc[data[\"reply_to_id\"] != 0][\"sender\"].value_counts()\n",
    "all_messages = data[\"sender\"].value_counts()\n",
    "(replies / all_messages * 100).sort_values(ascending=False)"
   ]
  },
  {
   "cell_type": "code",
   "execution_count": null,
   "metadata": {},
   "outputs": [],
   "source": [
    "# Average length of text messages, per member\n",
    "data.groupby([\"sender\"])[\"text_length\"].mean().round(2).sort_values(ascending=False).to_frame(\"average length\")"
   ]
  },
  {
   "cell_type": "code",
   "execution_count": null,
   "metadata": {},
   "outputs": [],
   "source": [
    "# How many times they've said bekiram\n",
    "bk_en = [\" bk \", \"bekiram\", \"bkirm\", \"b kirm\", \"b kiram\", \"be kiram\", \"be kirm\"]\n",
    "bk_fa = [\"بکیرم\", \"به کیرم\", \"ب کیرم\"]\n",
    "bk = bk_en + bk_fa\n",
    "data.loc[data[\"text\"].str.contains('|'.join(bk), na=False)][\"sender\"].value_counts()"
   ]
  },
  {
   "cell_type": "code",
   "execution_count": null,
   "metadata": {},
   "outputs": [],
   "source": [
    "# Average audio length\n",
    "sec = int(data.loc[data[\"message_type\"] == \"audio\"][\"media_duration\"].mean())\n",
    "avg_time = str(timedelta(seconds=sec))\n",
    "avg_time"
   ]
  },
  {
   "cell_type": "code",
   "execution_count": null,
   "metadata": {},
   "outputs": [],
   "source": [
    "# Audio stats for {Amir, Hossein, and Shahin}\n",
    "members = [\"Amir\", \"Hossein\", \"Shahin\"]\n",
    "for member in members:\n",
    "    count = len(data.loc[(data[\"message_type\"] == \"audio\") & (data[\"sender\"] == member)].index)\n",
    "    sec = int(data.loc[(data[\"message_type\"] == \"audio\") & (data[\"sender\"] == member)][\"media_duration\"].mean())\n",
    "    avg_time = str(timedelta(seconds=sec))\n",
    "    print(f\"{member} sent {count} songs with an average of {avg_time}.\")"
   ]
  },
  {
   "cell_type": "code",
   "execution_count": null,
   "metadata": {},
   "outputs": [],
   "source": [
    "# Extract {day_of_week, day_of_month, hour_of_day, month_of_year} from message_date and drop message_date\n",
    "day_of_week = data[\"message_date\"].apply(lambda x: dt.utcfromtimestamp(x).strftime(\"%w\"))\n",
    "data.insert(loc=6, column=\"day_of_week\", value=day_of_week)\n",
    "\n",
    "day_of_month = data[\"message_date\"].apply(lambda x: dt.utcfromtimestamp(x).strftime(\"%d\"))\n",
    "data.insert(loc=7, column=\"day_of_month\", value=day_of_month)\n",
    "\n",
    "hour_of_day = data[\"message_date\"].apply(lambda x: dt.utcfromtimestamp(x).strftime(\"%H\"))\n",
    "data.insert(loc=8, column=\"hour_of_day\", value=hour_of_day)\n",
    "\n",
    "month_of_year = data[\"message_date\"].apply(lambda x: dt.utcfromtimestamp(x).strftime(\"%m\"))\n",
    "data.insert(loc=9, column=\"month_of_year\", value=month_of_year)\n",
    "\n",
    "del data[\"message_date\"]\n",
    "data.head()"
   ]
  },
  {
   "cell_type": "code",
   "execution_count": null,
   "metadata": {},
   "outputs": [],
   "source": [
    "# Number of messages per day of week\n",
    "days = [\"Sun\", \"Mon\", \"Tue\", \"Wed\", \"Thu\", \"Fri\", \"Sat\"]\n",
    "all_df = data[\"day_of_week\"].value_counts()\n",
    "all_dow = list(zip(*sorted(list(zip(all_df.index, all_df)), key=lambda x: x[0])))\n",
    "\n",
    "amir_df = data.loc[data[\"sender\"] == \"Amir\"][\"day_of_week\"].value_counts()\n",
    "amir_dow = list(zip(*sorted(list(zip(amir_df.index, amir_df)), key=lambda x: x[0])))\n",
    "\n",
    "all_y_axis = all_dow[1]\n",
    "amir_y_axis = amir_dow[1]\n",
    "\n",
    "plt.figure(dpi=120)\n",
    "# plt.plot(days, all_y_axis)\n",
    "plt.plot(days, amir_y_axis)\n",
    "plt.title('Number of messages per day of week')\n",
    "plt.show()"
   ]
  },
  {
   "cell_type": "code",
   "execution_count": null,
   "metadata": {},
   "outputs": [],
   "source": [
    "# On average, how many messages per day has been sent in the group since the beginning?\n",
    "first_message = data[\"message_date\"].min()\n",
    "last_message = data[\"message_date\"].max()\n",
    "group_age_in_days = round((last_message - first_message) / (24 * 60 * 60))\n",
    "total_messages = len(data.index)\n",
    "average_per_day = total_messages/group_age_in_days\n",
    "print(f\"First message: {dt.utcfromtimestamp(first_message).strftime('%Y-%m-%d %H:%M:%S')}\")\n",
    "print(f\"Last message: {dt.utcfromtimestamp(last_message).strftime('%Y-%m-%d %H:%M:%S')}\")\n",
    "print(f\"Number of messages: {total_messages}\")\n",
    "print(f\"On average, {average_per_day:0.2f} messages per day has been sent in the group since the beginning.\")"
   ]
  },
  {
   "cell_type": "code",
   "execution_count": null,
   "metadata": {
    "scrolled": true
   },
   "outputs": [],
   "source": [
    "# Most used emojis\n",
    "def most_used_emojis(member):\n",
    "    emojis_list_of_list = data.loc[\n",
    "        (data[\"sender\"] == member) & (data[\"is_forwarded\"] == 0)\n",
    "    ][\"text_emojis\"].dropna().apply(lambda x: regex.findall(r\"\\X\", x)).tolist()\n",
    "\n",
    "    if(len(emojis_list_of_list) > 0):\n",
    "        emojis_list = reduce(operator.concat, emojis_list_of_list)\n",
    "        emojis_count = len(emojis_list)\n",
    "        most_common = Counter(emojis_list).most_common(10)\n",
    "        emojis = ''.join(list(zip(*most_common))[0])\n",
    "        return [emojis_count, member, emojis]\n",
    "    else:\n",
    "        return [0, \"\"]\n",
    "\n",
    "members = list(pd.unique(data[\"sender\"].values.ravel(\"K\")))\n",
    "\n",
    "emojis = []\n",
    "for member in members:\n",
    "    emojis.append(most_used_emojis(member))\n",
    "\n",
    "reports = [x for x in sorted(emojis, key=lambda x: x[0], reverse=True) if x[0] > 0]\n",
    "\n",
    "# display(HTML(\n",
    "#    '<table><tr>{}</tr></table>'.format(\n",
    "#        '</tr><tr>'.join(\n",
    "#            '<td>{}</td>'.format('</td><td>'.join(str(_) for _ in row)) for row in reports)\n",
    "#        )\n",
    "# ))\n",
    "\n",
    "display(HTML(tabulate(reports, headers=[\"count\", \"name\", \"most used emojis\"], tablefmt='html')))\n",
    "# print(tabulate(reports, headers=[\"count\", \"name\", \"most used emojis\"]))"
   ]
  },
  {
   "cell_type": "code",
   "execution_count": null,
   "metadata": {
    "scrolled": true
   },
   "outputs": [],
   "source": [
    "# Average audio length for each member\n",
    "\n",
    "report = []\n",
    "\n",
    "def average_audio_length(member):\n",
    "    media_durations = data.loc[\n",
    "        (data[\"sender\"] == member) & (data[\"message_type\"] == \"audio\")\n",
    "    ][\"media_duration\"]\n",
    "    if(not media_durations.empty):\n",
    "        return int(media_durations.mean())\n",
    "\n",
    "members = list(pd.unique(data[\"sender\"].values.ravel('K')))\n",
    "for member in members:\n",
    "    avg = average_audio_length(member)\n",
    "    if(avg):\n",
    "        report.append((member, avg))\n",
    "\n",
    "media_duration_overall = int(data.loc[data[\"message_type\"] == \"audio\"][\"media_duration\"].mean())\n",
    "\n",
    "report = sorted(report, key=lambda x: x[1])\n",
    "\n",
    "y, x = list(zip(*report))\n",
    "y_pos = np.arange(len(y))\n",
    "\n",
    "plt.figure(dpi=120)\n",
    "\n",
    "bar = plt.barh(y_pos, list(x), align=\"center\", alpha=0.5, color=\"b\")\n",
    "plt.yticks(y_pos, y)\n",
    "plt.axvline(x=media_duration_overall, linewidth=1, color='k')\n",
    "plt.xlabel(\"seconds\")\n",
    "plt.title(\"Average audio length\")\n",
    "plt.show()"
   ]
  },
  {
   "cell_type": "code",
   "execution_count": null,
   "metadata": {},
   "outputs": [],
   "source": [
    "# Extract {day_of_week, day_of_month, hour_of_day, month_of_year} from message_date and drop message_date\n",
    "def extract_and_delete(data):\n",
    "    location = data.columns.get_loc('message_date')\n",
    "    day_of_week = data[\"message_date\"].apply(lambda x: dt.utcfromtimestamp(x).strftime(\"%w\"))\n",
    "    data.insert(loc=location, column=\"day_of_week\", value=day_of_week)\n",
    "\n",
    "    day_of_month = data[\"message_date\"].apply(lambda x: dt.utcfromtimestamp(x).strftime(\"%d\"))\n",
    "    data.insert(loc=location+1, column=\"day_of_month\", value=day_of_month)\n",
    "\n",
    "    hour_of_day = data[\"message_date\"].apply(lambda x: dt.utcfromtimestamp(x).strftime(\"%H\"))\n",
    "    data.insert(loc=location+2, column=\"hour_of_day\", value=hour_of_day)\n",
    "\n",
    "    month_of_year = data[\"message_date\"].apply(lambda x: dt.utcfromtimestamp(x).strftime(\"%m\"))\n",
    "    data.insert(loc=location+3, column=\"month_of_year\", value=month_of_year)\n",
    "    \n",
    "    return data.drop(['message_date'], axis=1)\n",
    "\n",
    "data = extract_and_delete(data)\n",
    "data.head()"
   ]
  },
  {
   "cell_type": "code",
   "execution_count": null,
   "metadata": {
    "scrolled": true
   },
   "outputs": [],
   "source": [
    "# Number of messages per day of week\n",
    "days = (\"Sun\", \"Mon\", \"Tue\", \"Wed\", \"Thu\", \"Fri\", \"Sat\")\n",
    "dow = sorted(dict(data[\"day_of_week\"].value_counts()).items(), key=lambda x: x[0])\n",
    "x, y = list(zip(*dow))\n",
    "\n",
    "plt.figure(dpi=120)\n",
    "plt.plot(y, '-go')\n",
    "plt.xticks(np.arange(len(days)), days)\n",
    "plt.title(\"Number of messages per day of week\")\n",
    "plt.savefig(f\"output/{group}/{group} - Number of messages per day of week.png\", dpi=500)\n",
    "plt.show()"
   ]
  },
  {
   "cell_type": "code",
   "execution_count": null,
   "metadata": {},
   "outputs": [],
   "source": [
    "# Number of messages per day of month\n",
    "dom = sorted(dict(data[\"day_of_month\"].value_counts()).items(), key=lambda x: x[0])\n",
    "x, y = list(zip(*dom))\n",
    "\n",
    "plt.figure(dpi=120)\n",
    "plt.plot(y, '-go')\n",
    "plt.xticks(np.arange(len(x)), x)\n",
    "plt.title(\"Number of messages per day of month\")\n",
    "\n",
    "ax = plt.gca()\n",
    "for label in ax.xaxis.get_ticklabels()[1::2]:\n",
    "    label.set_visible(False)\n",
    "\n",
    "plt.savefig(f\"output/{group}/{group} - Number of messages per day of month.png\", dpi=500)\n",
    "plt.show()"
   ]
  },
  {
   "cell_type": "code",
   "execution_count": null,
   "metadata": {},
   "outputs": [],
   "source": [
    "# Number of messages per hour of day\n",
    "hod = sorted(dict(data[\"hour_of_day\"].value_counts()).items(), key=lambda x: x[0])\n",
    "x, y = list(zip(*hod))\n",
    "\n",
    "plt.figure(dpi=120)\n",
    "plt.plot(y, '-go')\n",
    "plt.xticks(np.arange(len(x)), x)\n",
    "plt.title(\"Number of messages per hour of day\")\n",
    "\n",
    "ax = plt.gca()\n",
    "for label in ax.xaxis.get_ticklabels()[1::2]:\n",
    "    label.set_visible(False)\n",
    "\n",
    "plt.savefig(f\"output/{group}/{group} - Number of messages per hour of day.png\", dpi=500)\n",
    "plt.show()"
   ]
  },
  {
   "cell_type": "code",
   "execution_count": null,
   "metadata": {},
   "outputs": [],
   "source": [
    "# Number of messages per month of year\n",
    "months = [\"Jan\", \"Feb\", \"Mar\", \"Apr\", \"May\", \"Jun\", \"Jul\", \"Aug\", \"Sep\", \"Oct\", \"Nov\", \"Dec\"]\n",
    "moy = sorted(dict(data[\"month_of_year\"].value_counts()).items(), key=lambda x: x[0])\n",
    "x, y = list(zip(*moy))\n",
    "\n",
    "plt.figure(dpi=120)\n",
    "plt.plot(y, '-go')\n",
    "plt.xticks(np.arange(len(months)), months)\n",
    "plt.title(\"Number of messages per month of year\")\n",
    "\n",
    "plt.savefig(f\"output/{group}/{group} - Number of messages per month of year.png\", dpi=500)\n",
    "plt.show()"
   ]
  },
  {
   "cell_type": "code",
   "execution_count": null,
   "metadata": {},
   "outputs": [],
   "source": [
    "# Kir, in both languages\n",
    "kir_en_dict = dict(data.loc[data[\"text\"].str.contains('kir', na=False, case=False)][\"sender\"].value_counts())\n",
    "kir_fa_dict = dict(data.loc[data[\"text\"].str.contains('کیر', na=False)][\"sender\"].value_counts())\n",
    "members = list(set.union(set(kir_en_dict.keys()), set(kir_fa_dict.keys())))\n",
    "\n",
    "kir_fa = []\n",
    "kir_en = []\n",
    "\n",
    "for member in members:\n",
    "    kir_fa.append(kir_fa_dict[member]) if member in kir_fa_dict else kir_fa.append(0)\n",
    "    kir_en.append(kir_en_dict[member]) if member in kir_en_dict else kir_en.append(0)\n",
    "    \n",
    "members, kir_en, kir_fa = list(zip(*sorted(zip(members, kir_en, kir_fa), key=lambda x: x[1]+x[2])))\n",
    "\n",
    "plt.figure(dpi=120, tight_layout=True)\n",
    "\n",
    "plt.barh(members, kir_fa, label=\"Persian\", color='g', left=kir_en)\n",
    "plt.barh(members, kir_en, label=\"English\", color='b')\n",
    "\n",
    "plt.yticks(np.arange(len(members)), members)\n",
    "plt.legend(loc=\"lower right\")\n",
    "plt.title(\"Kir, in both languages\")\n",
    "plt.savefig(f\"output/{group}/{group} - Kir, in both languages.png\", dpi=500)\n",
    "plt.show()"
   ]
  },
  {
   "cell_type": "code",
   "execution_count": null,
   "metadata": {},
   "outputs": [],
   "source": [
    "# Pie chart of percentage of message for each member of the chat\n",
    "nom = data[\"sender\"].value_counts() # number of messages\n",
    "tnom = len(data.index) # total number of messages\n",
    "message_count = list(zip(nom.index, nom))\n",
    "mtop = [(x, y) for x, y in message_count if (y/tnom > 0.03)] # those with More Than One Percent messages\n",
    "mtop.append((\"Other\", tnom - sum(list(zip(*mtop))[1])))\n",
    "\n",
    "mtop = sorted(mtop, key=lambda x: x[1], reverse=True)\n",
    "\n",
    "labels, sizes = list(zip(*mtop))\n",
    "\n",
    "plt.figure(dpi=120, tight_layout=True)\n",
    "plt.pie(sizes, labels=labels, autopct=\"%1.1f%%\")\n",
    "plt.title(\"Percentage of Messages\")\n",
    "plt.axis(\"equal\")\n",
    "plt.savefig(f\"output/{group}/{group} - Percentage of Messages.png\")\n",
    "plt.show()"
   ]
  },
  {
   "cell_type": "code",
   "execution_count": null,
   "metadata": {},
   "outputs": [],
   "source": [
    "hr = data.loc[(data[\"sender\"] == \"Hossein\") & (data[\"reply_to_sender\"].notnull())][\"reply_to_sender\"].value_counts() # hossein replies\n",
    "htr = len(data.loc[(data[\"sender\"] == \"Hossein\") & (data[\"reply_to_sender\"].notnull())].index) # hossein total replies\n",
    "\n",
    "message_count = list(zip(hr.index, hr))\n",
    "\n",
    "mttp = [(x, y) for x, y in message_count if (y/htr > 0.03)] # those with More Than Three Percent messages\n",
    "mttp.append((\"Other\", htr - sum(list(zip(*mttp))[1])))\n",
    "\n",
    "mttp = sorted(mttp, key=lambda x: x[1], reverse=True)\n",
    "\n",
    "labels, sizes = list(zip(*mttp))\n",
    "\n",
    "plt.figure(dpi=120, tight_layout=True)\n",
    "plt.pie(sizes, labels=labels, autopct=\"%1.1f%%\")\n",
    "plt.title(\"Hossein's Replies\")\n",
    "plt.axis(\"equal\")\n",
    "plt.savefig(f\"output/{group}/{group} - Hossein's Replies.png\")\n",
    "plt.show()"
   ]
  },
  {
   "cell_type": "code",
   "execution_count": null,
   "metadata": {},
   "outputs": [],
   "source": [
    "# Export all text into a file\n",
    "text = \"\"\n",
    "for t in data.loc[data[\"message_type\"] == \"text\"][\"text\"]:\n",
    "    text += f\"{demex(t)}\\n\"\n",
    "\n",
    "with open(f\"output/{group}.txt\", 'w', encoding=\"utf-8\") as file:\n",
    "    file.write(text)"
   ]
  }
 ],
 "metadata": {
  "kernelspec": {
   "display_name": "Python 3",
   "language": "python",
   "name": "python3"
  },
  "language_info": {
   "codemirror_mode": {
    "name": "ipython",
    "version": 3
   },
   "file_extension": ".py",
   "mimetype": "text/x-python",
   "name": "python",
   "nbconvert_exporter": "python",
   "pygments_lexer": "ipython3",
   "version": "3.8.2"
  }
 },
 "nbformat": 4,
 "nbformat_minor": 2
}
